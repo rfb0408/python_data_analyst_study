{
  "nbformat": 4,
  "nbformat_minor": 0,
  "metadata": {
    "colab": {
      "provenance": [],
      "authorship_tag": "ABX9TyN8imH4+h5kEHMPjNkic/MC",
      "include_colab_link": true
    },
    "kernelspec": {
      "name": "python3",
      "display_name": "Python 3"
    },
    "language_info": {
      "name": "python"
    }
  },
  "cells": [
    {
      "cell_type": "markdown",
      "metadata": {
        "id": "view-in-github",
        "colab_type": "text"
      },
      "source": [
        "<a href=\"https://colab.research.google.com/github/rfb0408/python_data_analyst_study/blob/main/%EB%8D%B0%EC%9D%B4%ED%84%B0%EB%B6%84%EC%84%9D_1%EC%9D%BC%EC%B0%A8.ipynb\" target=\"_parent\"><img src=\"https://colab.research.google.com/assets/colab-badge.svg\" alt=\"Open In Colab\"/></a>"
      ]
    },
    {
      "cell_type": "markdown",
      "source": [
        "#파이썬"
      ],
      "metadata": {
        "id": "ttNNjV28Rrqc"
      }
    },
    {
      "cell_type": "markdown",
      "source": [
        "#변수"
      ],
      "metadata": {
        "id": "lcUDJVD5RpNs"
      }
    },
    {
      "cell_type": "markdown",
      "source": [
        "- 변수: 데이터를 저장할 수 있는 이름을 가진 공간\n",
        "\n",
        "- 동적 타이핑(dynamic typing)언어이다."
      ],
      "metadata": {
        "id": "XBZJTRDTSn8d"
      }
    },
    {
      "cell_type": "code",
      "execution_count": null,
      "metadata": {
        "colab": {
          "base_uri": "https://localhost:8080/"
        },
        "id": "_RSMxtBARct8",
        "outputId": "cbfbc86c-e952-4cbb-ec81-8334950ec8bb"
      },
      "outputs": [
        {
          "output_type": "stream",
          "name": "stdout",
          "text": [
            "77 154\n"
          ]
        }
      ],
      "source": [
        "x,y=77,154\n",
        "print(x,y)"
      ]
    },
    {
      "cell_type": "code",
      "source": [
        "# input으로 입력받기\n",
        "num = input(\"첫 번째 숫자를 입력하세요: \")\n",
        "print(num)"
      ],
      "metadata": {
        "colab": {
          "base_uri": "https://localhost:8080/"
        },
        "id": "lnT4rH7YS54L",
        "outputId": "8aba48a4-fe2c-4e16-9612-f1ef14b8faf8"
      },
      "execution_count": null,
      "outputs": [
        {
          "output_type": "stream",
          "name": "stdout",
          "text": [
            "첫 번째 숫자를 입력하세요: 1\n",
            "1\n"
          ]
        }
      ]
    },
    {
      "cell_type": "markdown",
      "source": [
        "#기본 자료형"
      ],
      "metadata": {
        "id": "PSRjzro3TSx7"
      }
    },
    {
      "cell_type": "code",
      "source": [
        "print(type(7))\n",
        "print(type(7.7))\n",
        "print(type(True))\n",
        "print(type('seven'))\n",
        "\n",
        "num_1 = input(\"숫자를 입력하세요: \")\n",
        "\n",
        "print(num_1)\n",
        "print(type(num_1)) #파이썬에서는 input으로 값을 입력받으면 str로 저장된다!"
      ],
      "metadata": {
        "colab": {
          "base_uri": "https://localhost:8080/"
        },
        "id": "Hin_SbXATF2A",
        "outputId": "b30b8c61-4951-4c13-8b3e-24842a947aee"
      },
      "execution_count": null,
      "outputs": [
        {
          "output_type": "stream",
          "name": "stdout",
          "text": [
            "<class 'int'>\n",
            "<class 'float'>\n",
            "<class 'bool'>\n",
            "<class 'str'>\n",
            "숫자를 입력하세요: 7\n",
            "7\n",
            "<class 'str'>\n"
          ]
        }
      ]
    },
    {
      "cell_type": "markdown",
      "source": [
        "#문자열"
      ],
      "metadata": {
        "id": "kbq1tCPWrne2"
      }
    },
    {
      "cell_type": "markdown",
      "source": [
        "문자열 슬라이싱"
      ],
      "metadata": {
        "id": "jBurcHyo78QB"
      }
    },
    {
      "cell_type": "code",
      "source": [
        "# 문자열 슬라이싱\n",
        "a=\"19970505Rainy\"\n",
        "\n",
        "year=a[:4]\n",
        "day=a[4:8]\n",
        "weather=a[8:]\n",
        "\n",
        "print(year,day,weather)\n",
        "print(a[0::2]) # 문자열 건너뛰기\n",
        "print(a[::-1]) # 문자열 뒤집기"
      ],
      "metadata": {
        "colab": {
          "base_uri": "https://localhost:8080/"
        },
        "id": "DrqrD3kQ8Ssr",
        "outputId": "1a803cbc-7c0d-4236-d639-045b33ab855b"
      },
      "execution_count": 6,
      "outputs": [
        {
          "output_type": "stream",
          "name": "stdout",
          "text": [
            "1997 0505 Rainy\n",
            "1900Riy\n",
            "yniaR50507991\n"
          ]
        }
      ]
    },
    {
      "cell_type": "markdown",
      "source": [
        "##문자열 함수"
      ],
      "metadata": {
        "id": "RTANgzFQ8yLi"
      }
    },
    {
      "cell_type": "markdown",
      "source": [
        "문자열 전용함수 : string.format()\n",
        "- 문자열 포매팅이란, 문자열 안에 어떤 값이나 변수 따위를 삽입하는 방법을 말함!!\n",
        "- f 문자열 포맷팅 : f \"str : {s}\"\n",
        "- 문자열 앞에 'f'접두사를 붙이면 f문자열 포맷팅 사용 가능\n",
        "- 파이썬 3.6버전부터 사용 가능하므로 3.6미만 버전에서는 사용할 수 없음"
      ],
      "metadata": {
        "id": "fcbWyw6e87CZ"
      }
    },
    {
      "cell_type": "code",
      "source": [
        "love_num=\"I love number{}\".format(7)\n",
        "print(love_num)\n",
        "\n",
        "s=\"python is too fun.\"\n",
        "print(f\"str:{s}\")"
      ],
      "metadata": {
        "colab": {
          "base_uri": "https://localhost:8080/"
        },
        "id": "_aePnc1h88kj",
        "outputId": "e19badff-efe7-43ef-b42d-0039e237097f"
      },
      "execution_count": 10,
      "outputs": [
        {
          "output_type": "stream",
          "name": "stdout",
          "text": [
            "I love number7\n",
            "str:python is too fun.\n"
          ]
        }
      ]
    },
    {
      "cell_type": "markdown",
      "source": [
        "문자열 개수 세기\n",
        "- string.count(x, start, end)\n",
        "- 대소문자를 구분\n",
        "- 찾을 x에 문자, 문자열 모두 가능\n",
        "- start index 부분에서 end index 부분까지의 문자열에서 x의 개수를 셈, 범위를 넣지 않으면 처음부터 끝까지 포함\n"
      ],
      "metadata": {
        "id": "jRI2ZMPN-zDz"
      }
    },
    {
      "cell_type": "code",
      "source": [
        "s=\"python is very fun.\"\n",
        "\n",
        "print(f'y의 개수는 : {s.count(\"y\")}') # 홑따옴표로 감쌌으면, 안에 들어가는 따옴표는 쌍따옴표로 사용하셔서 구분하기!\n",
        "print(f'y의 개수는 : {s.count(\"y\",2,-1)}')\n",
        "print(f'y의 개수는 : {s.count(\"y\",1,-6)}')"
      ],
      "metadata": {
        "colab": {
          "base_uri": "https://localhost:8080/"
        },
        "id": "MrwtUFTv-6kz",
        "outputId": "b2c2048d-890d-43d8-f9ce-f16a1855b583"
      },
      "execution_count": 19,
      "outputs": [
        {
          "output_type": "stream",
          "name": "stdout",
          "text": [
            "y의 개수는 : 2\n",
            "y의 개수는 : 1\n",
            "y의 개수는 : 1\n"
          ]
        }
      ]
    },
    {
      "cell_type": "markdown",
      "source": [
        "문자열 바꾸기"
      ],
      "metadata": {
        "id": "B18sKKbg8RDR"
      }
    },
    {
      "cell_type": "code",
      "source": [
        "# 문자열 바꾸기\n",
        "b=\"pithon\"\n",
        "\n",
        "b.replace(\"i\",\"y\")\n",
        "print(b)"
      ],
      "metadata": {
        "colab": {
          "base_uri": "https://localhost:8080/"
        },
        "id": "Op4u9i5B8TEj",
        "outputId": "0966b4f8-5ce8-4881-c780-fe6c898bc02a"
      },
      "execution_count": 7,
      "outputs": [
        {
          "output_type": "stream",
          "name": "stdout",
          "text": [
            "pithon\n"
          ]
        }
      ]
    },
    {
      "cell_type": "markdown",
      "source": [
        "문자열 나누기\n",
        "\n",
        "- 괄호 안에 아무 값도 넣어주지 않으면 공백(스페이스, 탭, 엔터 등)을 기준으로 문자열을 나눔\n",
        "- 괄호 안에 특정 값이 있을 경우 괄호 안의 값을 구분자로 해서 문자열을 나눔"
      ],
      "metadata": {
        "id": "89XmQxzW78JD"
      }
    },
    {
      "cell_type": "code",
      "source": [
        "phone=\"010-7777-1313\"\n",
        "\n",
        "print(phone.split(\"-\"))"
      ],
      "metadata": {
        "colab": {
          "base_uri": "https://localhost:8080/"
        },
        "id": "cgKcv7PD8D6Z",
        "outputId": "acd430eb-dc3e-4227-f436-dda2813076f4"
      },
      "execution_count": 4,
      "outputs": [
        {
          "output_type": "stream",
          "name": "stdout",
          "text": [
            "['010', '7777', '1313']\n"
          ]
        }
      ]
    },
    {
      "cell_type": "markdown",
      "source": [
        "#제어문"
      ],
      "metadata": {
        "id": "gy3Ffzc8rt2u"
      }
    },
    {
      "cell_type": "code",
      "source": [
        "# if문\n",
        "num = int(input(\"숫자 입력: \"))\n",
        "\n",
        "if num> 0 :\n",
        "    print(\"양수\")\n",
        "\n",
        "if num<0 :\n",
        "    print(\"음수\")\n",
        "\n",
        "if num ==0 :\n",
        "    print(\"0\")"
      ],
      "metadata": {
        "id": "7DGg2F_UsJK9",
        "colab": {
          "base_uri": "https://localhost:8080/"
        },
        "outputId": "c9044ca6-25f5-4c38-b5ab-f00f9471b450"
      },
      "execution_count": 20,
      "outputs": [
        {
          "output_type": "stream",
          "name": "stdout",
          "text": [
            "숫자 입력: 1\n",
            "양수\n"
          ]
        }
      ]
    },
    {
      "cell_type": "code",
      "source": [
        "# if ~else 문\n",
        "num = int(input(\"숫자 입력: \"))\n",
        "\n",
        "if num>0:\n",
        "    print(\"양수\")\n",
        "else :\n",
        "    if num<0 :\n",
        "        print('음수')\n",
        "    else :\n",
        "        print('0')"
      ],
      "metadata": {
        "id": "dpcMtR93sJH-",
        "colab": {
          "base_uri": "https://localhost:8080/"
        },
        "outputId": "f31259db-51d4-4916-ee48-b6edc426ca35"
      },
      "execution_count": 22,
      "outputs": [
        {
          "output_type": "stream",
          "name": "stdout",
          "text": [
            "숫자 입력: -1\n",
            "음수\n"
          ]
        }
      ]
    },
    {
      "cell_type": "code",
      "source": [
        "# if~elif ~else문\n",
        "\n",
        "num= int(input(\"숫자 입력: \"))\n",
        "\n",
        "if num>0 :\n",
        "    print('양수')\n",
        "elif num == 0:\n",
        "    print('0')\n",
        "else :\n",
        "    print('음수')"
      ],
      "metadata": {
        "id": "URwUVi5tsJFG",
        "colab": {
          "base_uri": "https://localhost:8080/"
        },
        "outputId": "5954fdd2-4b86-432e-daa6-840b18fe4704"
      },
      "execution_count": 23,
      "outputs": [
        {
          "output_type": "stream",
          "name": "stdout",
          "text": [
            "숫자 입력: 0\n",
            "0\n"
          ]
        }
      ]
    },
    {
      "cell_type": "markdown",
      "source": [
        "#반복문"
      ],
      "metadata": {
        "id": "wuD_OOIRrvYO"
      }
    },
    {
      "cell_type": "markdown",
      "source": [
        "while: 조건 반복"
      ],
      "metadata": {
        "id": "w1vYYswANwCo"
      }
    },
    {
      "cell_type": "code",
      "source": [
        "import random as r # 랜덤 함수 가져옴\n",
        "\n",
        "n=0\n",
        "cor=0\n",
        "while True :\n",
        "    if n <3 :\n",
        "        n += 1\n",
        "        a= r.randint(1,100)\n",
        "        b= r.randint(1,100)\n",
        "\n",
        "        print(a,\"+\",b,\"=\")\n",
        "        c=int(input())\n",
        "\n",
        "        if a+b==c :\n",
        "            print('정답')\n",
        "            cor += 1\n",
        "        else:\n",
        "            print(\"오답\")\n",
        "    else :\n",
        "        break\n",
        "print(\"맞춘횟수:\",cor)"
      ],
      "metadata": {
        "id": "-qcVe8uSsJz-",
        "colab": {
          "base_uri": "https://localhost:8080/"
        },
        "outputId": "efb15e8e-d980-44e0-9927-b2e5f6653b70"
      },
      "execution_count": 26,
      "outputs": [
        {
          "output_type": "stream",
          "name": "stdout",
          "text": [
            "58 + 15 =\n",
            "73\n",
            "정답\n",
            "58 + 22 =\n",
            "34\n",
            "오답\n",
            "93 + 66 =\n",
            "159\n",
            "정답\n",
            "맞춘횟수: 2\n"
          ]
        }
      ]
    },
    {
      "cell_type": "markdown",
      "source": [
        "for :계수 반복\n",
        "- range(start=0, stop, step=1)\n",
        "- start 값부터 step 간격으로 stop보다 작은 값 을 순서대로 생성"
      ],
      "metadata": {
        "id": "1JbNG4Y6T82F"
      }
    },
    {
      "cell_type": "code",
      "source": [
        "import random as r\n",
        "\n",
        "cor=0\n",
        "\n",
        "for i in range(3) :\n",
        "\n",
        "    a= r.randint(1,100)\n",
        "    b= r.randint(1,100)\n",
        "\n",
        "    print(a,\"+\",b,\"=\")\n",
        "    c=int(input())\n",
        "\n",
        "    if a+b==c :\n",
        "        print('정답')\n",
        "        cor += 1\n",
        "    else:\n",
        "        print(\"오답\")\n",
        "\n",
        "print(\"맞춘횟수:\",cor)"
      ],
      "metadata": {
        "id": "jiokq7_EsJxu",
        "colab": {
          "base_uri": "https://localhost:8080/"
        },
        "outputId": "fe07d258-54e0-46cb-c3dc-d3177cc62925"
      },
      "execution_count": 27,
      "outputs": [
        {
          "output_type": "stream",
          "name": "stdout",
          "text": [
            "93 + 94 =\n",
            "187\n",
            "정답\n",
            "74 + 47 =\n",
            "121\n",
            "정답\n",
            "56 + 62 =\n",
            "123\n",
            "오답\n",
            "맞춘횟수: 2\n"
          ]
        }
      ]
    },
    {
      "cell_type": "code",
      "source": [
        "menu1 = \"아메리카노\"\n",
        "menu2 = \"카페라떼\"\n",
        "menu3 = \"바닐라라떼\"\n",
        "menu4 = \"녹차라떼\"\n",
        "\n",
        "price1 = 4000\n",
        "price2 = 5000\n",
        "price3 = 5500\n",
        "price4 = 7700\n",
        "\n",
        "print(\"-------------------------\")\n",
        "print(\"1. 아메리카노 : 4000원\")\n",
        "print(\"2. 카페라떼   : 5000원\")\n",
        "print(\"3. 바닐라라떼 : 5500원\")\n",
        "print(\"4. 녹차라떼 : 7700원\")\n",
        "print(\"-------------------------\")\n",
        "\n",
        "# 주문하기\n",
        "menu = int(input(\"메뉴를 숫자로 입력해주세요:\"))\n",
        "qty = int(input(\"수량을 입력해주세요:\"))\n",
        "\n",
        "name = \"\"\n",
        "price = 0\n",
        "\n",
        "# 계산하기\n",
        "if 1 <= menu and menu <= 4:\n",
        "    if menu == 1:\n",
        "        name = menu1\n",
        "        price = price1\n",
        "\n",
        "    elif menu == 2:\n",
        "        name = menu2\n",
        "        price = price2\n",
        "\n",
        "    elif menu == 3:\n",
        "        name = menu3\n",
        "        price = price3\n",
        "\n",
        "    else:\n",
        "        name = menu4\n",
        "        price = price4\n",
        "\n",
        "    price = price * qty  # *=  복합연산자\n",
        "\n",
        "    print(\"주문하신 {}번 {} : {}잔 {}원 입니다. 얼마를 지불하시겠습니까?\".format(menu, name, qty, price))\n",
        "    # 거스름돈 계산하기\n",
        "    cost = int(input(\"지불금액:\"))\n",
        "    b  = cost - price\n",
        "\n",
        "    if b >= 0 :\n",
        "        print(\"정상결제 되었습니다. 남은 잔액은 {}입니다.\".format(b))\n",
        "    else :\n",
        "        print(\"{}원이 부족합니다.\".format(abs(b))) # abs 는 절대값\n",
        "\n",
        "else:\n",
        "    print(\"잘못된 번호입니다.\")"
      ],
      "metadata": {
        "id": "XO_Qj8cQsJs-",
        "colab": {
          "base_uri": "https://localhost:8080/"
        },
        "outputId": "e808931f-5276-4870-d131-14edb13b1e8f"
      },
      "execution_count": 28,
      "outputs": [
        {
          "output_type": "stream",
          "name": "stdout",
          "text": [
            "-------------------------\n",
            "1. 아메리카노 : 4000원\n",
            "2. 카페라떼   : 5000원\n",
            "3. 바닐라라떼 : 5500원\n",
            "4. 녹차라떼 : 7700원\n",
            "-------------------------\n",
            "메뉴를 숫자로 입력해주세요:2\n",
            "수량을 입력해주세요:3\n",
            "주문하신 2번 카페라떼 : 3잔 15000원 입니다. 얼마를 지불하시겠습니까?\n",
            "지불금액:20000\n",
            "정상결제 되었습니다. 남은 잔액은 5000입니다.\n"
          ]
        }
      ]
    },
    {
      "cell_type": "markdown",
      "source": [
        "#복합데이터"
      ],
      "metadata": {
        "id": "lpShiDFzrw0_"
      }
    },
    {
      "cell_type": "markdown",
      "source": [
        "## 복합데이터_리스트\n",
        "\n",
        "- 여러 개의 데이터가 한 공간에 저장하는 데이터 타입\n",
        "- 리스트 : 여러 개의 데이터를 가진 순서형 자료로 수정 가능"
      ],
      "metadata": {
        "id": "W_nsotNnZEJe"
      }
    },
    {
      "cell_type": "code",
      "source": [
        "lst=[1,'two',3]\n",
        "print(lst[1])\n",
        "len(lst)"
      ],
      "metadata": {
        "id": "tAwNlZZPUzpE",
        "colab": {
          "base_uri": "https://localhost:8080/"
        },
        "outputId": "f0f344a8-6b7d-4ad6-fad6-e94d038958cd"
      },
      "execution_count": 30,
      "outputs": [
        {
          "output_type": "stream",
          "name": "stdout",
          "text": [
            "two\n"
          ]
        },
        {
          "output_type": "execute_result",
          "data": {
            "text/plain": [
              "3"
            ]
          },
          "metadata": {},
          "execution_count": 30
        }
      ]
    },
    {
      "cell_type": "markdown",
      "source": [
        "## 리스트 함수들"
      ],
      "metadata": {
        "id": "Xp1t8rCIa8ZH"
      }
    },
    {
      "cell_type": "markdown",
      "source": [
        "**list** : 문자열을 리스트로 변환하기"
      ],
      "metadata": {
        "id": "iXiJTh7iZvnU"
      }
    },
    {
      "cell_type": "code",
      "source": [
        "word = 'hello python'\n",
        "word_list=list(word)\n",
        "print(word_list)"
      ],
      "metadata": {
        "id": "vhoJHulIsKa3",
        "colab": {
          "base_uri": "https://localhost:8080/"
        },
        "outputId": "46029931-a522-4d9e-aaf0-32e728b98e1d"
      },
      "execution_count": 31,
      "outputs": [
        {
          "output_type": "stream",
          "name": "stdout",
          "text": [
            "['h', 'e', 'l', 'l', 'o', ' ', 'p', 'y', 't', 'h', 'o', 'n']\n"
          ]
        }
      ]
    },
    {
      "cell_type": "markdown",
      "source": [
        "**del** : 리스트 항목 삭제하기"
      ],
      "metadata": {
        "id": "yOXchrP_awwl"
      }
    },
    {
      "cell_type": "code",
      "source": [
        "lst=[4,'five',6]\n",
        "\n",
        "del lst[1]\n",
        "print(lst)"
      ],
      "metadata": {
        "id": "afuwi2H2sKYm",
        "colab": {
          "base_uri": "https://localhost:8080/"
        },
        "outputId": "b328dd23-1051-46f5-9e91-5c091dbd6b97"
      },
      "execution_count": 32,
      "outputs": [
        {
          "output_type": "stream",
          "name": "stdout",
          "text": [
            "[4, 6]\n"
          ]
        }
      ]
    },
    {
      "cell_type": "markdown",
      "source": [
        "**append** : 리스트 요소 추가\n",
        "\n",
        "**sort** : 리스트 정렬\n",
        "\n",
        "**reverse** : 리스트 뒤집기\n",
        "\n",
        "**clear** : 리스트 요소 삭제 (전체)"
      ],
      "metadata": {
        "id": "pBRqZnNSaxH8"
      }
    },
    {
      "cell_type": "code",
      "source": [
        "st=[9,6,11]\n",
        "\n",
        "st.append(4)\n",
        "print(st)\n",
        "\n",
        "st.sort()\n",
        "print(st)\n",
        "\n",
        "st.reverse()\n",
        "print(st)\n",
        "\n",
        "st.clear()\n",
        "print(st)"
      ],
      "metadata": {
        "id": "_mPcA6OMsKWW",
        "colab": {
          "base_uri": "https://localhost:8080/"
        },
        "outputId": "4fb55669-e2ff-41c8-fabe-d605e88ae327"
      },
      "execution_count": 37,
      "outputs": [
        {
          "output_type": "stream",
          "name": "stdout",
          "text": [
            "[9, 6, 11, 4]\n",
            "[4, 6, 9, 11]\n",
            "[11, 9, 6, 4]\n",
            "[]\n"
          ]
        }
      ]
    },
    {
      "cell_type": "markdown",
      "source": [
        "**remove** : 리스트 요소 삭제 (일부)\n",
        "\n",
        "**pop** : 리스트 요소 꺼내서 반환함 (인덱스 주소를 받는다)"
      ],
      "metadata": {
        "id": "Zu6KgWfbc23F"
      }
    },
    {
      "cell_type": "code",
      "source": [
        "st=[1,2,3,4,5]\n",
        "\n",
        "st.remove(4)\n",
        "print(st)\n",
        "\n",
        "print(st.pop(1)) # 꺼냄과 동시에 반환\n",
        "st"
      ],
      "metadata": {
        "id": "pJ_V8-_ysrC1",
        "colab": {
          "base_uri": "https://localhost:8080/"
        },
        "outputId": "0c175938-8e26-4e14-8270-f78d7cc7362b"
      },
      "execution_count": 40,
      "outputs": [
        {
          "output_type": "stream",
          "name": "stdout",
          "text": [
            "[1, 2, 3, 5]\n",
            "2\n"
          ]
        },
        {
          "output_type": "execute_result",
          "data": {
            "text/plain": [
              "[1, 3, 5]"
            ]
          },
          "metadata": {},
          "execution_count": 40
        }
      ]
    },
    {
      "cell_type": "markdown",
      "source": [
        "## 다중 리스트"
      ],
      "metadata": {
        "id": "hh_qKlcaeSzE"
      }
    },
    {
      "cell_type": "code",
      "source": [
        "lst_1=[1,2,3,['a','b','c']]\n",
        "a=lst_1[3][1]\n",
        "print(a)\n",
        "\n",
        "lst_2=[1,2,['a','b',['python','good']]]\n",
        "b=lst_2[2][2][0]\n",
        "print(b)"
      ],
      "metadata": {
        "id": "R87Fef7psq-m",
        "colab": {
          "base_uri": "https://localhost:8080/"
        },
        "outputId": "aa90ff18-d83f-463a-cbad-f85c49ec9344"
      },
      "execution_count": 42,
      "outputs": [
        {
          "output_type": "stream",
          "name": "stdout",
          "text": [
            "b\n",
            "python\n"
          ]
        }
      ]
    },
    {
      "cell_type": "code",
      "source": [
        "# 리스트 사이에 넣기\n",
        "i_num=[1,2,3,4,5]\n",
        "\n",
        "i_num[1:3]=[0,0,0,0,0]\n",
        "print(i_num)"
      ],
      "metadata": {
        "id": "2yiWTHG7syul",
        "colab": {
          "base_uri": "https://localhost:8080/"
        },
        "outputId": "456dae59-666a-4803-bfc9-4ce14106b174"
      },
      "execution_count": 45,
      "outputs": [
        {
          "output_type": "stream",
          "name": "stdout",
          "text": [
            "[1, 0, 0, 0, 0, 0, 4, 5]\n"
          ]
        }
      ]
    },
    {
      "cell_type": "code",
      "source": [
        "# 리스트 0으로 수정하기\n",
        "i_nst=[6,7,8,9]\n",
        "i_nst[:]=[0]\n",
        "print(i_nst)"
      ],
      "metadata": {
        "id": "cc4dfaipsypl",
        "colab": {
          "base_uri": "https://localhost:8080/"
        },
        "outputId": "660b96c1-68d9-42a1-d89c-03232b848430"
      },
      "execution_count": 44,
      "outputs": [
        {
          "output_type": "stream",
          "name": "stdout",
          "text": [
            "[0]\n"
          ]
        }
      ]
    },
    {
      "cell_type": "code",
      "source": [
        "# 중첩된 리스트 슬라이싱하기\n",
        "i_lst=[1,2,3,['a','b','c'],4,5]\n",
        "i_lst[3][:2]"
      ],
      "metadata": {
        "id": "4wk3BR_usyml",
        "colab": {
          "base_uri": "https://localhost:8080/"
        },
        "outputId": "1e672a79-127b-46e9-ff4c-1efc762d78ab"
      },
      "execution_count": 46,
      "outputs": [
        {
          "output_type": "execute_result",
          "data": {
            "text/plain": [
              "['a', 'b']"
            ]
          },
          "metadata": {},
          "execution_count": 46
        }
      ]
    }
  ]
}