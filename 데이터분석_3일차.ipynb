{
  "nbformat": 4,
  "nbformat_minor": 0,
  "metadata": {
    "colab": {
      "provenance": [],
      "collapsed_sections": [
        "oXVtgzsQxeOg",
        "A0g9NNIuw2uM"
      ],
      "toc_visible": true,
      "authorship_tag": "ABX9TyNh+PM+7s4WcJCCXbgYUT0k",
      "include_colab_link": true
    },
    "kernelspec": {
      "name": "python3",
      "display_name": "Python 3"
    },
    "language_info": {
      "name": "python"
    }
  },
  "cells": [
    {
      "cell_type": "markdown",
      "metadata": {
        "id": "view-in-github",
        "colab_type": "text"
      },
      "source": [
        "<a href=\"https://colab.research.google.com/github/rfb0408/python_data_analyst_study/blob/main/%EB%8D%B0%EC%9D%B4%ED%84%B0%EB%B6%84%EC%84%9D_3%EC%9D%BC%EC%B0%A8.ipynb\" target=\"_parent\"><img src=\"https://colab.research.google.com/assets/colab-badge.svg\" alt=\"Open In Colab\"/></a>"
      ]
    },
    {
      "cell_type": "markdown",
      "source": [
        "#파이썬 immutable, mutable"
      ],
      "metadata": {
        "id": "F_pRUj0kmHYv"
      }
    },
    {
      "cell_type": "markdown",
      "source": [
        "mutable, immutable 객체 구분\n",
        "\n",
        "* mutable\n",
        " - 정의 : 변경되는 객체(객체의 상태를 변경할 수 있음)\n",
        " - 종류 : list, set, dictionary\n",
        " - 객체의 경우에는 모든 객체를 각각 생성해서 참조\n",
        "\n",
        "* immutable\n",
        " - 정의 : 변경되지 않는 객체(객체의 상태를 변경할 수 없음)\n",
        " - 종류 : int, float, tuple, str, bool\n",
        " - 객체의 값이 같은 경우에 변수에 상관없이 동일한 곳을 참조\n",
        "\n",
        "- 얕은 복사, 깊은 복사를 그림으로 확인하기 위한 사이트 소개\n",
        "\n",
        "    - https://pythontutor.com/visualize.html#mode=edit"
      ],
      "metadata": {
        "id": "MF-enzPq0RRv"
      }
    },
    {
      "cell_type": "markdown",
      "source": [
        "**사이트 이용 시 주의사항!**\n",
        "\n",
        "\n",
        "다음과 같이 초기화면에서 설정을 해야한다.\n",
        "![스크린샷 2023-12-28 132804.png](data:image/png;base64,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)"
      ],
      "metadata": {
        "id": "koANrJVzrVgV"
      }
    },
    {
      "cell_type": "code",
      "execution_count": null,
      "metadata": {
        "id": "756f6WZ8lMYq",
        "colab": {
          "base_uri": "https://localhost:8080/"
        },
        "outputId": "de7be101-9acd-4dbd-892d-0b7bcacb032b"
      },
      "outputs": [
        {
          "output_type": "stream",
          "name": "stdout",
          "text": [
            "132629912002768\n",
            "132629912002768\n",
            "132629418162960\n",
            "132629418163408\n"
          ]
        }
      ],
      "source": [
        "# immutable 객체 (상태변경 x)\n",
        "a=256\n",
        "b=256\n",
        "c=257\n",
        "d=257\n",
        "\n",
        "\n",
        "print(id(a))\n",
        "print(id(b))\n",
        "print(id(c))\n",
        "print(id(d))"
      ]
    },
    {
      "cell_type": "markdown",
      "source": [
        "id() : 변수(객체)가 가리키는 주소를 확인하는 함수\n",
        "\n",
        "**a,b가 동일한 메모리 주소가 나오는 이유 :**\n",
        "\n",
        "값이 같아서 동일한 곳을 참조하기 때문이다.\n",
        "\n",
        "**c,d가 서로 다른 메모리 주소가 나오는 이유 :**\n",
        "\n",
        "파이썬은 c파이썬과 j파이썬이 있는데, c파이썬은 256 이하의 숫자는 미리 동적 타이핑을 할당을 해 놓는다.\n",
        "\n",
        "256이상의 숫자는 그때그때 할당하므로 동적 타이핑이라 주소가 다르다"
      ],
      "metadata": {
        "id": "YfqKFQ_YpqK2"
      }
    },
    {
      "cell_type": "code",
      "source": [
        "# mutable 객체 (상태변경 0)\n",
        "arr1=[1,2,3]\n",
        "arr2=[1,2,3]\n",
        "arr3=[1,2,3]\n",
        "\n",
        "print(id(arr1))\n",
        "print(id(arr2))\n",
        "print(id(arr3))"
      ],
      "metadata": {
        "colab": {
          "base_uri": "https://localhost:8080/"
        },
        "id": "gDlAZ2ZUphxi",
        "outputId": "387713a0-2bf8-45aa-e683-f5a64e0efc3e"
      },
      "execution_count": null,
      "outputs": [
        {
          "output_type": "stream",
          "name": "stdout",
          "text": [
            "132629141196224\n",
            "132629416623104\n",
            "132629141589888\n"
          ]
        }
      ]
    },
    {
      "cell_type": "markdown",
      "source": [
        "##파이썬 immutable, mutable 값이 변경될 때"
      ],
      "metadata": {
        "id": "6KK8eJvjmkJM"
      }
    },
    {
      "cell_type": "markdown",
      "source": [
        "###immutable (상태 변경 불가능 - int, float, str...)"
      ],
      "metadata": {
        "id": "oXVtgzsQxeOg"
      }
    },
    {
      "cell_type": "markdown",
      "source": [
        "➊ int값 변경"
      ],
      "metadata": {
        "id": "qnIOoBCnxj-X"
      }
    },
    {
      "cell_type": "code",
      "source": [
        "n1 = 7\n",
        "n2 = 7\n",
        "n3 = 7\n",
        "\n",
        "print(f\"n1 값 : {n1} \\t주소 : {(id(n1))}\")\n",
        "print(f\"n2 값 : {n2} \\t주소 : {(id(n2))}\")\n",
        "print(f\"n3 값 : {n3} \\t주소 : {(id(n3))}\")"
      ],
      "metadata": {
        "colab": {
          "base_uri": "https://localhost:8080/"
        },
        "id": "LwdPHoaDu20c",
        "outputId": "fa786933-9135-487b-b46d-46e95c8e35c3"
      },
      "execution_count": null,
      "outputs": [
        {
          "output_type": "stream",
          "name": "stdout",
          "text": [
            "n1 값 : 7 \t주소 : 132629911994800\n",
            "n2 값 : 7 \t주소 : 132629911994800\n",
            "n3 값 : 7 \t주소 : 132629911994800\n"
          ]
        }
      ]
    },
    {
      "cell_type": "code",
      "source": [
        "n1 += 1\n",
        "n2 += 1\n",
        "n3 += 10\n",
        "\n",
        "print(f\"n1 값 : {n1} \\t주소 : {(id(n1))}\")\n",
        "print(f\"n2 값 : {n2} \\t주소 : {(id(n2))}\")\n",
        "print(f\"n3 값 : {n3} \\t주소 : {(id(n3))}\")"
      ],
      "metadata": {
        "colab": {
          "base_uri": "https://localhost:8080/"
        },
        "id": "iJVil1HJvGXF",
        "outputId": "ce7c74c9-1345-4955-86cf-9c36c2800125"
      },
      "execution_count": null,
      "outputs": [
        {
          "output_type": "stream",
          "name": "stdout",
          "text": [
            "n1 값 : 8 \t주소 : 132629911994832\n",
            "n2 값 : 8 \t주소 : 132629911994832\n",
            "n3 값 : 17 \t주소 : 132629911995120\n"
          ]
        }
      ]
    },
    {
      "cell_type": "markdown",
      "source": [
        "➋ str값 변경"
      ],
      "metadata": {
        "id": "k48VffHowKFo"
      }
    },
    {
      "cell_type": "code",
      "source": [
        "str1 = \"Hello\"\n",
        "str2 = \"Hello\"\n",
        "str3 = \"Hello\"\n",
        "str4 = \"Hello\"\n",
        "\n",
        "print(f\"s1 값 : {str1} \\t주소 : {(id(str1))}\")\n",
        "print(f\"s2 값 : {str2} \\t주소 : {(id(str2))}\")\n",
        "print(f\"s3 값 : {str3} \\t주소 : {(id(str3))}\")\n",
        "print(f\"s4 값 : {str3} \\t주소 : {(id(str4))}\")"
      ],
      "metadata": {
        "colab": {
          "base_uri": "https://localhost:8080/"
        },
        "id": "7TxCfoDqvorl",
        "outputId": "e2f795c2-4363-423c-8c61-1356848b8ede"
      },
      "execution_count": null,
      "outputs": [
        {
          "output_type": "stream",
          "name": "stdout",
          "text": [
            "s1 값 : Hello \t주소 : 132629416907888\n",
            "s2 값 : Hello \t주소 : 132629416907888\n",
            "s3 값 : Hello \t주소 : 132629416907888\n",
            "s4 값 : Hello \t주소 : 132629416907888\n"
          ]
        }
      ]
    },
    {
      "cell_type": "code",
      "source": [
        "str1 = str1.replace('o','o python')\n",
        "str2 = \"Hello python\"\n",
        "str3 = \"Hello\"\n",
        "str4 = str3.upper()\n",
        "\n",
        "print(f\"s1 값 : {str1} \\t주소 : {(id(str1))}\")\n",
        "print(f\"s2 값 : {str2} \\t주소 : {(id(str2))}\")\n",
        "print(f\"s3 값 : {str3} \\t주소 : {(id(str3))}\")\n",
        "print(f\"s4 값 : {str4} \\t주소 : {(id(str4))}\")"
      ],
      "metadata": {
        "colab": {
          "base_uri": "https://localhost:8080/"
        },
        "id": "mpR3_1uUv3sH",
        "outputId": "380715a9-8102-4e85-eef5-7b42c00b6e81"
      },
      "execution_count": null,
      "outputs": [
        {
          "output_type": "stream",
          "name": "stdout",
          "text": [
            "s1 값 : Hello python \t주소 : 132629140037936\n",
            "s2 값 : Hello python \t주소 : 132629140032240\n",
            "s3 값 : Hello \t주소 : 132629416907888\n",
            "s4 값 : HELLO \t주소 : 132629140038000\n"
          ]
        }
      ]
    },
    {
      "cell_type": "markdown",
      "source": [
        "###mutable (상태 변경 가능 - list, set, dictionary...)"
      ],
      "metadata": {
        "id": "z6siwhRrwRvV"
      }
    },
    {
      "cell_type": "markdown",
      "source": [
        "➊ list값 변경"
      ],
      "metadata": {
        "id": "9pMg_frexpzP"
      }
    },
    {
      "cell_type": "code",
      "source": [
        "arr_1 = ['a', 'b', 7]\n",
        "arr_2 = ['a', 'b', 7]\n",
        "arr_3 = ['a', 'b', 7]\n",
        "\n",
        "print(f\"arr_1 값 : {arr_1} \\t주소 : {(id(arr_1))}\")\n",
        "print(f\"arr_2 값 : {arr_2} \\t주소 : {(id(arr_2))}\")\n",
        "print(f\"arr_3 값 : {arr_3} \\t주소 : {(id(arr_3))}\")"
      ],
      "metadata": {
        "colab": {
          "base_uri": "https://localhost:8080/"
        },
        "id": "i9c55YdiwQ2A",
        "outputId": "d6927963-2974-4f6e-9984-d9471dc4c41b"
      },
      "execution_count": null,
      "outputs": [
        {
          "output_type": "stream",
          "name": "stdout",
          "text": [
            "arr_1 값 : ['a', 'b', 7] \t주소 : 132629141590464\n",
            "arr_2 값 : ['a', 'b', 7] \t주소 : 132629416883712\n",
            "arr_3 값 : ['a', 'b', 7] \t주소 : 132629532808832\n"
          ]
        }
      ]
    },
    {
      "cell_type": "code",
      "source": [
        "arr_1.append(13)\n",
        "arr_2.append(13)\n",
        "\n",
        "print(f\"arr_1 값 : {arr_1} \\t주소 : {(id(arr_1))}\")\n",
        "print(f\"arr_2 값 : {arr_2} \\t주소 : {(id(arr_2))}\")\n",
        "print(f\"arr_3 값 : {arr_3} \\t주소 : {(id(arr_3))}\")"
      ],
      "metadata": {
        "colab": {
          "base_uri": "https://localhost:8080/"
        },
        "id": "z72_lTvqwda7",
        "outputId": "d3b2fa97-8617-4839-a16b-c6df72b9f30b"
      },
      "execution_count": null,
      "outputs": [
        {
          "output_type": "stream",
          "name": "stdout",
          "text": [
            "arr_1 값 : ['a', 'b', 7, 13] \t주소 : 132629141590464\n",
            "arr_2 값 : ['a', 'b', 7, 13] \t주소 : 132629416883712\n",
            "arr_3 값 : ['a', 'b', 7] \t주소 : 132629532808832\n"
          ]
        }
      ]
    },
    {
      "cell_type": "code",
      "source": [
        "arr_1 = [11, 12, [13, 14], 'a', 'b']\n",
        "arr_2 = [11, 12, [13, 14], 'a', 'b']\n",
        "\n",
        "print(f\"arr_1 : {arr_1} \\t주소 : {(id(arr_1))}\")\n",
        "print(f\"arr_2 : {arr_2} \\t주소 : {(id(arr_2))}\")\n",
        "\n",
        "print(f\"arr_1[0] : {arr_1[0]} \\t주소 : {(id(arr_1[0]))}\") #리스트 안의 같은 값에 대해서는 주소가 같다\n",
        "print(f\"arr_2[0] : {arr_2[0]} \\t주소 : {(id(arr_2[0]))}\")\n",
        "\n",
        "print(f\"arr_1[2] : {arr_1[2]} \\t주소 : {(id(arr_1[2]))}\") #리스트 안의 같은 리스트지만 주소는 다르다\n",
        "print(f\"arr_2[2] : {arr_2[2]} \\t주소 : {(id(arr_2[2]))}\")"
      ],
      "metadata": {
        "colab": {
          "base_uri": "https://localhost:8080/"
        },
        "id": "G4EMYFx7wet5",
        "outputId": "e89be5ad-a92b-4326-e91a-d8f8013382b7"
      },
      "execution_count": null,
      "outputs": [
        {
          "output_type": "stream",
          "name": "stdout",
          "text": [
            "arr_1 : [11, 12, [13, 14], 'a', 'b'] \t주소 : 132629416833024\n",
            "arr_2 : [11, 12, [13, 14], 'a', 'b'] \t주소 : 132629146064128\n",
            "arr_1[0] : 11 \t주소 : 132629911994928\n",
            "arr_2[0] : 11 \t주소 : 132629911994928\n",
            "arr_1[2] : [13, 14] \t주소 : 132629146071296\n",
            "arr_2[2] : [13, 14] \t주소 : 132629535314944\n"
          ]
        }
      ]
    },
    {
      "cell_type": "markdown",
      "source": [
        "#파이썬 얕은 복사, 깊은 복사"
      ],
      "metadata": {
        "id": "A0g9NNIuw2uM"
      }
    },
    {
      "cell_type": "markdown",
      "source": [
        "##파이썬 얕은복사\n",
        "\n",
        "**1) 얕은복사란?**\n",
        "\n",
        "* 정의 : 객체의 참조값, 흔히 말하는 주소값만 복사하는 것을 의미\n",
        "\n",
        "* 특징\n",
        "\n",
        " - 객체의 주소값을 복사하기 때문에, 복사 대상의 값이 바뀌면 복사한 값도 변경\n",
        " - 두 변수 간 독립성이 성립하지 않음  "
      ],
      "metadata": {
        "id": "vULV1RgtwrEi"
      }
    },
    {
      "cell_type": "code",
      "source": [
        "arr_1 = [1, 2, 3]\n",
        "arr_2 = arr_1 # '='를 해서 얕은복사\n",
        "\n",
        "print(id(arr_1), id(arr_2))"
      ],
      "metadata": {
        "colab": {
          "base_uri": "https://localhost:8080/"
        },
        "id": "WH-BLsY4zDeA",
        "outputId": "96b8006a-6d2a-4019-8ab4-78499372fd12"
      },
      "execution_count": null,
      "outputs": [
        {
          "output_type": "stream",
          "name": "stdout",
          "text": [
            "132629141577600 132629141577600\n"
          ]
        }
      ]
    },
    {
      "cell_type": "markdown",
      "source": [
        "* 정리\n",
        " * immutable 한 객체 (int, float) 등은 얕은 복사 또는 깊은 복사에 영향을 받지 않음\n",
        "\n",
        " * 해당 객체는 값이 변경되면 '무조건' 참조가 변경\n",
        "\n",
        " * list, set, dictionary 와 같은 mutable한 객체에 대해서 **\"얕은복사\"**  , **\"깊은복사\"**를 구분해야 함"
      ],
      "metadata": {
        "id": "XaUwIvp8zHfU"
      }
    },
    {
      "cell_type": "markdown",
      "source": [
        "[:]슬라이싱을 이용한 얕은 복사"
      ],
      "metadata": {
        "id": "_dMlO_GtzUE-"
      }
    },
    {
      "cell_type": "code",
      "source": [
        "arr_1 = [4, 5, 6, [2, 4, 8]]\n",
        "arr_2 = arr_1[:]\n",
        "\n",
        "print(f'arr_1 : {arr_1}, add : {id(arr_1)}')\n",
        "print(f'arr_2 : {arr_2}, add : {id(arr_2)}')"
      ],
      "metadata": {
        "colab": {
          "base_uri": "https://localhost:8080/"
        },
        "id": "rIuZB-crzRd-",
        "outputId": "7aaaf5ff-d2c9-420b-bdf0-58f78ee1b6ae"
      },
      "execution_count": null,
      "outputs": [
        {
          "output_type": "stream",
          "name": "stdout",
          "text": [
            "arr_1 : [4, 5, 6, [2, 4, 8]], add : 132629532806848\n",
            "arr_2 : [4, 5, 6, [2, 4, 8]], add : 132629536176448\n"
          ]
        }
      ]
    },
    {
      "cell_type": "code",
      "source": [
        "arr_2.append(14)\n",
        "\n",
        "print(f'arr_1 : {arr_1}, add : {id(arr_1)}')\n",
        "print(f'arr_2 : {arr_2}, add : {id(arr_2)}')"
      ],
      "metadata": {
        "colab": {
          "base_uri": "https://localhost:8080/"
        },
        "id": "H422v_eKzY3H",
        "outputId": "0ce7a076-b9b6-4610-b78a-5f865208811c"
      },
      "execution_count": null,
      "outputs": [
        {
          "output_type": "stream",
          "name": "stdout",
          "text": [
            "arr_1 : [4, 5, 6, [2, 4, 8]], add : 132629532806848\n",
            "arr_2 : [4, 5, 6, [2, 4, 8], 14], add : 132629536176448\n"
          ]
        }
      ]
    },
    {
      "cell_type": "code",
      "source": [
        "arr_1[3].append(10)\n",
        "\n",
        "print(f'arr_1[3] : {arr_1[3]}, add : {id(arr_1[3])}')\n",
        "print(f'arr_2[3] : {arr_2[3]}, add : {id(arr_2[3])}')"
      ],
      "metadata": {
        "colab": {
          "base_uri": "https://localhost:8080/"
        },
        "id": "Zwrem949zear",
        "outputId": "7a40ce1f-4255-4295-e3df-b8a404e0c5ae"
      },
      "execution_count": null,
      "outputs": [
        {
          "output_type": "stream",
          "name": "stdout",
          "text": [
            "arr_1[3] : [2, 4, 8, 10], add : 132629416871936\n",
            "arr_2[3] : [2, 4, 8, 10], add : 132629416871936\n"
          ]
        }
      ]
    },
    {
      "cell_type": "markdown",
      "source": [
        "copy 메서드, copy 함수를 이용해도 [:]와 동일한 결과가 나옴"
      ],
      "metadata": {
        "id": "vuVEfAZXztMQ"
      }
    },
    {
      "cell_type": "code",
      "source": [
        "arr_1 = [4, 5, 6, [2, 4, 8]]\n",
        "arr_2 = arr_1.copy()\n",
        "\n",
        "print(f'arr_1 : {arr_1}, add : {id(arr_1)}')\n",
        "print(f'arr_2 : {arr_2}, add : {id(arr_2)}')"
      ],
      "metadata": {
        "colab": {
          "base_uri": "https://localhost:8080/"
        },
        "id": "Uh63sAJGzsfU",
        "outputId": "710a103e-50ce-40e4-e939-e6a16c16a135"
      },
      "execution_count": null,
      "outputs": [
        {
          "output_type": "stream",
          "name": "stdout",
          "text": [
            "arr_1 : [4, 5, 6, [2, 4, 8]], add : 132629533201472\n",
            "arr_2 : [4, 5, 6, [2, 4, 8]], add : 132629139732864\n"
          ]
        }
      ]
    },
    {
      "cell_type": "markdown",
      "source": [
        "##파이썬 깊은 복사\n",
        "\n",
        "**1) 깊은 복사란?**\n",
        "\n",
        "* 정의 : 깊은 복사는 다른 메모리 공간에 값을 복사함으로써, mutable 객체의 독립성을 유지해주는 역할\n",
        "\n",
        "* 특징\n",
        "\n",
        " - 깊은 복사는 리스트 내부 리스트, 딕셔너리 내부 리스트 등 내부에 있는 객체 모두 새롭게 만들어주는 작업\n",
        " - 모든 것을 다 새롭게 복사\n",
        " - 독립적  \n"
      ],
      "metadata": {
        "id": "MZIi5o0NxF_1"
      }
    },
    {
      "cell_type": "code",
      "source": [
        "import copy\n",
        "\n",
        "arr_1 = [1, 2, [99, 88, 77], 3]\n",
        "arr_2 = copy.deepcopy(arr_1) # copy 모듈 깊은 복사\n",
        "\n",
        "print(f'arr_1 : {arr_1}, address : {id(arr_1)}')\n",
        "print(f'arr_2 : {arr_2}, address : {id(arr_2)}')"
      ],
      "metadata": {
        "colab": {
          "base_uri": "https://localhost:8080/"
        },
        "id": "aYthifNNz0tH",
        "outputId": "63e75e60-b10c-4963-f0fc-b231c4428203"
      },
      "execution_count": null,
      "outputs": [
        {
          "output_type": "stream",
          "name": "stdout",
          "text": [
            "arr_1 : [1, 2, [99, 88, 77], 3], address : 132629416872640\n",
            "arr_2 : [1, 2, [99, 88, 77], 3], address : 132629416877312\n"
          ]
        }
      ]
    },
    {
      "cell_type": "code",
      "source": [
        "arr_1.append(0)\n",
        "\n",
        "print(f'arr_1 : {arr_1}, address : {id(arr_1)}')\n",
        "print(f'arr_2 : {arr_2}, address : {id(arr_2)}')\n",
        "print(f\"arr1[2] : {arr_1[2]}, address : {id(arr_1[2])}\")\n",
        "print(f\"arr2[2] : {arr_2[2]}, address : {id(arr_2[2])}\")"
      ],
      "metadata": {
        "colab": {
          "base_uri": "https://localhost:8080/"
        },
        "id": "bKPCEZn1z2j8",
        "outputId": "a9a3f4c1-95ae-4631-f36f-82a6371b9465"
      },
      "execution_count": null,
      "outputs": [
        {
          "output_type": "stream",
          "name": "stdout",
          "text": [
            "arr_1 : [1, 2, [99, 88, 77], 3, 0], address : 132629416872640\n",
            "arr_2 : [1, 2, [99, 88, 77], 3], address : 132629416877312\n",
            "arr1[2] : [99, 88, 77], address : 132629141585152\n",
            "arr2[2] : [99, 88, 77], address : 132629416885632\n"
          ]
        }
      ]
    },
    {
      "cell_type": "code",
      "source": [
        "arr_1[2].append(10)\n",
        "\n",
        "print(f\"arr_1[2] : {arr_1[2]}, address : {id(arr_1[2])}\")\n",
        "print(f\"arr_2[2] : {arr_2[2]}, address : {id(arr_2[2])}\")\n",
        "print(f'arr_1 : {arr_1}, address : {id(arr_1)}')\n",
        "print(f'arr_2 : {arr_2}, address : {id(arr_2)}')"
      ],
      "metadata": {
        "colab": {
          "base_uri": "https://localhost:8080/"
        },
        "id": "fSlGtnEaz9kI",
        "outputId": "245753df-4bee-4dea-d82e-498f0ccaaa3a"
      },
      "execution_count": null,
      "outputs": [
        {
          "output_type": "stream",
          "name": "stdout",
          "text": [
            "arr_1[2] : [99, 88, 77, 10], address : 132629141585152\n",
            "arr_2[2] : [99, 88, 77], address : 132629416885632\n",
            "arr_1 : [1, 2, [99, 88, 77, 10], 3, 0], address : 132629416872640\n",
            "arr_2 : [1, 2, [99, 88, 77], 3], address : 132629416877312\n"
          ]
        }
      ]
    }
  ]
}