{
  "nbformat": 4,
  "nbformat_minor": 0,
  "metadata": {
    "colab": {
      "provenance": [],
      "collapsed_sections": [
        "LoknBQpcUMPt",
        "qm56KcUpf52D"
      ],
      "authorship_tag": "ABX9TyMhc94YzDYroiSCjtrQ9fL7",
      "include_colab_link": true
    },
    "kernelspec": {
      "name": "python3",
      "display_name": "Python 3"
    },
    "language_info": {
      "name": "python"
    }
  },
  "cells": [
    {
      "cell_type": "markdown",
      "metadata": {
        "id": "view-in-github",
        "colab_type": "text"
      },
      "source": [
        "<a href=\"https://colab.research.google.com/github/rfb0408/python_data_analyst_study/blob/main/%EB%8D%B0%EC%9D%B4%ED%84%B0%EB%B6%84%EC%84%9D_class.ipynb\" target=\"_parent\"><img src=\"https://colab.research.google.com/assets/colab-badge.svg\" alt=\"Open In Colab\"/></a>"
      ]
    },
    {
      "cell_type": "markdown",
      "source": [
        "#클래스"
      ],
      "metadata": {
        "id": "roOxFu96-bgu"
      }
    },
    {
      "cell_type": "markdown",
      "source": [
        "클래스(class) : 객체(object)를 표현하고 만들기 위한 도구\n",
        "\n",
        "객체(object) : 특정한 개념이나 모양을 존재하는 것으로, 객체를 통해 클래스가 어떻게 동작하는지 구현할 수 있음\n",
        "\n",
        "클래스의 구성\n",
        "- 속성 : 객체를 구성하는 데이터로 정보를 표시함\n",
        "- 메소드 : 객체가 행할 수 있는 모든 동작을 의미함. 즉 객체에 속한 함수\n",
        "- 생성자, 소멸자 : 객체 생성과 소멸 시에 자동 호출되는 특별한 메소드\n",
        "\n",
        "**객체를 사용한 프로그래밍 언어를 객체 지향(object oriented) 언어라고 부름**"
      ],
      "metadata": {
        "id": "jEf2jUrl-UBX"
      }
    },
    {
      "cell_type": "markdown",
      "source": [
        "## 캐릭터 선언으로 클래스 이해하기"
      ],
      "metadata": {
        "id": "Q5L-RpqTf78O"
      }
    },
    {
      "cell_type": "code",
      "execution_count": null,
      "metadata": {
        "id": "PoN2bkSKRIFQ",
        "colab": {
          "base_uri": "https://localhost:8080/"
        },
        "outputId": "cb58d71b-919f-4406-b941-58c0fe719305"
      },
      "outputs": [
        {
          "output_type": "stream",
          "name": "stdout",
          "text": [
            "<__main__.Player object at 0x7f772907a0b0>\n",
            "<__main__.Player object at 0x7f772907b310>\n"
          ]
        }
      ],
      "source": [
        "# 1. 클래스 선언하기 (클래스 이름은 대문자로 선언한다!!)\n",
        "\n",
        "class Player:\n",
        "    pass\n",
        "\n",
        "# 2. 객체 생성\n",
        "\n",
        "player1 = Player()\n",
        "player2 = Player()\n",
        "\n",
        "print(player1)\n",
        "print(player2)"
      ]
    },
    {
      "cell_type": "code",
      "source": [
        "# 속성과 메소드 생성하기\n",
        "\n",
        "class Player:\n",
        "\n",
        "    # 1. 클래스 속성 생성하기\n",
        "    # self는 자신 객체를 나타내는 참조 변수이며 모든 메소드는 self를 첫 번째 매개변수로 받는다.\n",
        "    # 클래스를 호출할 때 바로 속성을 주기 위해 생성자(__init__)를 사용.\n",
        "    def __init__(self,HP,ATK,D):\n",
        "        self.hp = HP\n",
        "        self.atk = ATK\n",
        "        self.d = D\n",
        "\n",
        "    # 2. 클래스 메소드 생성하기\n",
        "    def run (self):\n",
        "        self.hp -=3\n",
        "        print(f'체력감소:{self.hp}')\n",
        "\n",
        "    def attack(self):\n",
        "        self.atk +=1\n",
        "        print(f'공격력 증가:{self.atk}')\n",
        "\n",
        "    def walk(self):\n",
        "        self.hp -=1\n",
        "        print(f'체력감소:{self.hp}')\n",
        "\n",
        "    def defense(self):\n",
        "        self.d +=2\n",
        "        print(f'방어도 증가:{self.d}')\n",
        "\n",
        "# 3. 객체 생성\n",
        "player1=Player(130,40,90)\n",
        "player2=Player(100,80,50)\n",
        "\n",
        "print(player1.hp)\n",
        "print(player2.d)"
      ],
      "metadata": {
        "colab": {
          "base_uri": "https://localhost:8080/"
        },
        "id": "a2DQy9HF-gcQ",
        "outputId": "c628875d-6223-4772-baf7-0614d4e6f100"
      },
      "execution_count": null,
      "outputs": [
        {
          "output_type": "stream",
          "name": "stdout",
          "text": [
            "130\n",
            "50\n"
          ]
        }
      ]
    },
    {
      "cell_type": "code",
      "source": [
        "# 4. 메소드 실행\n",
        "player1.walk()\n",
        "player1.attack()\n",
        "player2.defense()\n",
        "player2.run()"
      ],
      "metadata": {
        "colab": {
          "base_uri": "https://localhost:8080/"
        },
        "id": "k5rlRyyC-xns",
        "outputId": "a0fc5a88-787b-4d47-881f-b07c6fafa4ee"
      },
      "execution_count": null,
      "outputs": [
        {
          "output_type": "stream",
          "name": "stdout",
          "text": [
            "체력감소:129\n",
            "공격력 증가:41\n",
            "방어도 증가:52\n",
            "체력감소:97\n"
          ]
        }
      ]
    },
    {
      "cell_type": "markdown",
      "source": [
        "## 햄버거 주문 클래스 만들기"
      ],
      "metadata": {
        "id": "LoknBQpcUMPt"
      }
    },
    {
      "cell_type": "code",
      "source": [
        "class Burger:\n",
        "    menu = ('새우버거', '치킨버거', '치즈버거')\n",
        "    price = (5000, 4000, 3000)\n",
        "\n",
        "    def __init__(self):\n",
        "        pass\n",
        "\n",
        "    # 메뉴함수\n",
        "    def my_menu(self):\n",
        "        print('[버거메뉴]')\n",
        "        for i in range(0, len(self.menu)):\n",
        "            print(i+1,'.',self.menu[i],\"\\t가격 : \",self.price[i])\n",
        "        print()\n",
        "\n",
        "    # 주문함수\n",
        "    def order(self,num):\n",
        "        self.num =num\n",
        "        self.burger = self.menu[num-1]\n",
        "        print(\"주문 버거 : {}\".format(self.burger))\n",
        "        print()\n",
        "\n",
        "    # 지불 함수\n",
        "    def pay(self,qty):\n",
        "        self.qty=qty\n",
        "        total_price = self.price[self.num-1] * self.qty\n",
        "        return total_price"
      ],
      "metadata": {
        "id": "pdSz0NFLDIoq"
      },
      "execution_count": null,
      "outputs": []
    },
    {
      "cell_type": "code",
      "source": [
        "# Burger 클래스 생성\n",
        "Jun=Burger() # Jun이라는 이름이 self에 들어간다. \".self\" 는 만든 객체 이름을 받아준다~ 로 이해함."
      ],
      "metadata": {
        "id": "B-SZSwC5WQLY"
      },
      "execution_count": null,
      "outputs": []
    },
    {
      "cell_type": "code",
      "source": [
        "Jun.my_menu()\n",
        "Jun.order(1)\n",
        "Jun.pay(3)"
      ],
      "metadata": {
        "colab": {
          "base_uri": "https://localhost:8080/"
        },
        "id": "UVs9zL_jWSFR",
        "outputId": "0dcb5000-9064-4a4b-8a1c-0fd600fd9805"
      },
      "execution_count": null,
      "outputs": [
        {
          "output_type": "stream",
          "name": "stdout",
          "text": [
            "[버거메뉴]\n",
            "1 . 새우버거 \t가격 :  5000\n",
            "2 . 치킨버거 \t가격 :  4000\n",
            "3 . 치즈버거 \t가격 :  3000\n",
            "\n",
            "주문 버거 : 새우버거\n",
            "\n"
          ]
        },
        {
          "output_type": "execute_result",
          "data": {
            "text/plain": [
              "15000"
            ]
          },
          "metadata": {},
          "execution_count": 49
        }
      ]
    },
    {
      "cell_type": "markdown",
      "source": [
        "## 캐릭터 직업으로 클래스 상속 이해하기"
      ],
      "metadata": {
        "id": "qm56KcUpf52D"
      }
    },
    {
      "cell_type": "code",
      "source": [
        "class Assassin(Player):\n",
        "\n",
        "    # 인스턴트 오버라이딩(__init__메소드 오버라이딩)\n",
        "    def __init__ (self,HP,ATK,D,MP):\n",
        "        super().__init__(HP,ATK,D) #자식 클래스(Student)가 상속받는 부모 클래스(Human)를 자식 클래스(Student)에 불러오겠다는 뜻\n",
        "        self.mp =MP\n",
        "\n",
        "    # 공격 능력 오버라이딩\n",
        "    def attack(self):\n",
        "        self.atk +=2\n",
        "        print(f\"공격력 증가: {self.atk}\")\n",
        "\n",
        "    def attack2(self):\n",
        "        super().attack()\n",
        "\n",
        "    def knife(self):\n",
        "        self.atk += 10\n",
        "        print(f'공격력 증가:{self.hp}')\n",
        "\n",
        "    def deceive(self):\n",
        "        self.mp -= 3\n",
        "        print(f'마나 감소:{self.mp}')"
      ],
      "metadata": {
        "id": "cAZo12Y2WW5X"
      },
      "execution_count": null,
      "outputs": []
    },
    {
      "cell_type": "code",
      "source": [
        "player3= Assassin(70,80,60,50)"
      ],
      "metadata": {
        "id": "7_Pf3hquh-DN"
      },
      "execution_count": null,
      "outputs": []
    },
    {
      "cell_type": "code",
      "source": [
        "player3.attack()\n",
        "player3.attack2()"
      ],
      "metadata": {
        "colab": {
          "base_uri": "https://localhost:8080/"
        },
        "id": "-XqXJMsIiTt3",
        "outputId": "73f89cab-795f-4fee-cc04-da9c038de845"
      },
      "execution_count": null,
      "outputs": [
        {
          "output_type": "stream",
          "name": "stdout",
          "text": [
            "공격력 증가: 88\n",
            "공격력 증가:89\n"
          ]
        }
      ]
    }
  ]
}