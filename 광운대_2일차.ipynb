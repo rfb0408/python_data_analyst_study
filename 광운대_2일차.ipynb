{
  "nbformat": 4,
  "nbformat_minor": 0,
  "metadata": {
    "colab": {
      "provenance": [],
      "authorship_tag": "ABX9TyPw3+ssGhfhitisr5QzF17E",
      "include_colab_link": true
    },
    "kernelspec": {
      "name": "python3",
      "display_name": "Python 3"
    },
    "language_info": {
      "name": "python"
    }
  },
  "cells": [
    {
      "cell_type": "markdown",
      "metadata": {
        "id": "view-in-github",
        "colab_type": "text"
      },
      "source": [
        "<a href=\"https://colab.research.google.com/github/rfb0408/python_data_analyst_study/blob/main/%EA%B4%91%EC%9A%B4%EB%8C%80_2%EC%9D%BC%EC%B0%A8.ipynb\" target=\"_parent\"><img src=\"https://colab.research.google.com/assets/colab-badge.svg\" alt=\"Open In Colab\"/></a>"
      ]
    },
    {
      "cell_type": "code",
      "execution_count": null,
      "metadata": {
        "id": "gE4aYkXiyxYy"
      },
      "outputs": [],
      "source": [
        "#실시간 데이터, 오픈AI에서 미리 신청을 해야한다"
      ]
    },
    {
      "cell_type": "code",
      "source": [
        "#1.튜플_패킹&언패킹\n",
        "tri_1=(23,12) #튜플 패킹\n",
        "\n",
        "bt, ht =tri_1 #튜플 언패킹\n",
        "print(bt,ht)"
      ],
      "metadata": {
        "colab": {
          "base_uri": "https://localhost:8080/"
        },
        "id": "ulL2659zzUPg",
        "outputId": "9c196447-ebd9-4171-f3a8-62333db7e732"
      },
      "execution_count": null,
      "outputs": [
        {
          "output_type": "stream",
          "name": "stdout",
          "text": [
            "23 12\n"
          ]
        }
      ]
    },
    {
      "cell_type": "code",
      "source": [
        "nums=(1,2,3,4,5)\n",
        "\n",
        "n1,n2,*others=nums\n",
        "\n",
        "print(n1)\n",
        "print(n2)\n",
        "print(others)"
      ],
      "metadata": {
        "colab": {
          "base_uri": "https://localhost:8080/"
        },
        "id": "_Mjj01l00Ky0",
        "outputId": "8ead79df-affb-4088-8d58-f69944d97b71"
      },
      "execution_count": null,
      "outputs": [
        {
          "output_type": "stream",
          "name": "stdout",
          "text": [
            "1\n",
            "2\n",
            "[3, 4, 5]\n"
          ]
        }
      ]
    },
    {
      "cell_type": "code",
      "source": [
        "numbers=[('A',1),('B',2),('C',3)]\n",
        "\n",
        "for x,y in numbers :\n",
        "    print(x,y,sep=',')"
      ],
      "metadata": {
        "colab": {
          "base_uri": "https://localhost:8080/"
        },
        "id": "moMiiWEm00SV",
        "outputId": "f34c542c-2d1b-4484-9bfb-092d44f0e87a"
      },
      "execution_count": null,
      "outputs": [
        {
          "output_type": "stream",
          "name": "stdout",
          "text": [
            "A,1\n",
            "B,2\n",
            "C,3\n"
          ]
        }
      ]
    },
    {
      "cell_type": "code",
      "source": [
        "#2. 딕셔너리\n",
        "a={1:'apple',2:\"orange\",3:\"banana\"}"
      ],
      "metadata": {
        "id": "pBMFfj1_1WtG"
      },
      "execution_count": null,
      "outputs": []
    },
    {
      "cell_type": "code",
      "source": [
        "print(a[1])\n",
        "len(a)"
      ],
      "metadata": {
        "colab": {
          "base_uri": "https://localhost:8080/"
        },
        "id": "UbeMp2k83ITh",
        "outputId": "4a675c45-6fc3-4a66-be1d-d4aa15442125"
      },
      "execution_count": null,
      "outputs": [
        {
          "output_type": "stream",
          "name": "stdout",
          "text": [
            "apple\n"
          ]
        },
        {
          "output_type": "execute_result",
          "data": {
            "text/plain": [
              "3"
            ]
          },
          "metadata": {},
          "execution_count": 11
        }
      ]
    },
    {
      "cell_type": "code",
      "source": [
        "print(4 in a)\n",
        "print(2in a) #in 연산자 key에 관해서만 확인 가능"
      ],
      "metadata": {
        "colab": {
          "base_uri": "https://localhost:8080/"
        },
        "id": "DP91a0ip3MJX",
        "outputId": "bd4e8755-f9e8-45c6-fded-971d3eb280bd"
      },
      "execution_count": null,
      "outputs": [
        {
          "output_type": "stream",
          "name": "stdout",
          "text": [
            "False\n",
            "True\n"
          ]
        }
      ]
    },
    {
      "cell_type": "code",
      "source": [
        "a[1]='peach'\n",
        "a"
      ],
      "metadata": {
        "colab": {
          "base_uri": "https://localhost:8080/"
        },
        "id": "8I2W9BC53buV",
        "outputId": "01f86356-87cd-4146-bf82-b6f5da611426"
      },
      "execution_count": null,
      "outputs": [
        {
          "output_type": "execute_result",
          "data": {
            "text/plain": [
              "{1: 'peach', 2: 'orange', 3: 'banana'}"
            ]
          },
          "metadata": {},
          "execution_count": 15
        }
      ]
    },
    {
      "cell_type": "code",
      "source": [
        "a[4]='tomato'\n",
        "a"
      ],
      "metadata": {
        "colab": {
          "base_uri": "https://localhost:8080/"
        },
        "id": "NlpQOdwN3sLB",
        "outputId": "5ff3d5e0-ee78-4fa0-d037-c97effed24e6"
      },
      "execution_count": null,
      "outputs": [
        {
          "output_type": "execute_result",
          "data": {
            "text/plain": [
              "{1: 'peach', 2: 'orange', 3: 'banana', 4: 'tomato'}"
            ]
          },
          "metadata": {},
          "execution_count": 16
        }
      ]
    },
    {
      "cell_type": "code",
      "source": [
        "print(a.keys())"
      ],
      "metadata": {
        "colab": {
          "base_uri": "https://localhost:8080/"
        },
        "id": "Nwor_0Dy3xt3",
        "outputId": "ee4dd3e9-3588-4465-e417-69b954006b1e"
      },
      "execution_count": null,
      "outputs": [
        {
          "output_type": "stream",
          "name": "stdout",
          "text": [
            "dict_keys([1, 2, 3, 4])\n"
          ]
        }
      ]
    },
    {
      "cell_type": "code",
      "source": [
        "print(a.values())"
      ],
      "metadata": {
        "colab": {
          "base_uri": "https://localhost:8080/"
        },
        "id": "dH9DqsPE4umt",
        "outputId": "3be18092-b882-4417-b921-1fbe0a80c690"
      },
      "execution_count": null,
      "outputs": [
        {
          "output_type": "stream",
          "name": "stdout",
          "text": [
            "dict_values(['peach', 'orange', 'banana', 'tomato'])\n"
          ]
        }
      ]
    },
    {
      "cell_type": "code",
      "source": [
        "print(a.items())"
      ],
      "metadata": {
        "colab": {
          "base_uri": "https://localhost:8080/"
        },
        "id": "j7g1Ir7B45mM",
        "outputId": "af8e01e3-36e2-4f8a-e8e3-5fbfbb5b01e5"
      },
      "execution_count": null,
      "outputs": [
        {
          "output_type": "stream",
          "name": "stdout",
          "text": [
            "dict_items([(1, 'peach'), (2, 'orange'), (3, 'banana'), (4, 'tomato')])\n"
          ]
        }
      ]
    },
    {
      "cell_type": "code",
      "source": [
        "a={1:'apple',2:\"orange\",3:\"banana\"}"
      ],
      "metadata": {
        "id": "qcvZ0D1i5AUW"
      },
      "execution_count": null,
      "outputs": []
    },
    {
      "cell_type": "code",
      "source": [
        "print(a[1])\n",
        "print(a.get(1))"
      ],
      "metadata": {
        "colab": {
          "base_uri": "https://localhost:8080/"
        },
        "id": "mXEfh32U5W4Q",
        "outputId": "2dcc8b2a-9265-4ab3-cf80-e76c605c63d6"
      },
      "execution_count": null,
      "outputs": [
        {
          "output_type": "stream",
          "name": "stdout",
          "text": [
            "apple\n",
            "apple\n"
          ]
        }
      ]
    },
    {
      "cell_type": "code",
      "source": [
        "print(a[4])"
      ],
      "metadata": {
        "colab": {
          "base_uri": "https://localhost:8080/",
          "height": 184
        },
        "id": "J0CyDqbS5hCz",
        "outputId": "11114038-b077-4add-c842-a0f40f9c2453"
      },
      "execution_count": null,
      "outputs": [
        {
          "output_type": "error",
          "ename": "KeyError",
          "evalue": "ignored",
          "traceback": [
            "\u001b[0;31m---------------------------------------------------------------------------\u001b[0m",
            "\u001b[0;31mKeyError\u001b[0m                                  Traceback (most recent call last)",
            "\u001b[0;32m<ipython-input-27-ba4863cd608d>\u001b[0m in \u001b[0;36m<cell line: 1>\u001b[0;34m()\u001b[0m\n\u001b[0;32m----> 1\u001b[0;31m \u001b[0mprint\u001b[0m\u001b[0;34m(\u001b[0m\u001b[0ma\u001b[0m\u001b[0;34m[\u001b[0m\u001b[0;36m4\u001b[0m\u001b[0;34m]\u001b[0m\u001b[0;34m)\u001b[0m\u001b[0;34m\u001b[0m\u001b[0;34m\u001b[0m\u001b[0m\n\u001b[0m",
            "\u001b[0;31mKeyError\u001b[0m: 4"
          ]
        }
      ]
    },
    {
      "cell_type": "code",
      "source": [
        "print(a.get(4))"
      ],
      "metadata": {
        "colab": {
          "base_uri": "https://localhost:8080/"
        },
        "id": "N4SbbFcB5tKP",
        "outputId": "04aa13e6-a507-4c49-dce0-2b03a80bead9"
      },
      "execution_count": null,
      "outputs": [
        {
          "output_type": "stream",
          "name": "stdout",
          "text": [
            "None\n"
          ]
        }
      ]
    },
    {
      "cell_type": "code",
      "source": [
        "key = ['a','b','c']\n",
        "value = [10,20,30]"
      ],
      "metadata": {
        "id": "vCZ9WqHJ5tn1"
      },
      "execution_count": null,
      "outputs": []
    },
    {
      "cell_type": "code",
      "source": [
        "dct=dict(zip(key,value))\n",
        "print(dct)"
      ],
      "metadata": {
        "colab": {
          "base_uri": "https://localhost:8080/"
        },
        "id": "ZWPn7f_X6jHz",
        "outputId": "cde96e01-1b04-4025-ebcf-103cb3595665"
      },
      "execution_count": null,
      "outputs": [
        {
          "output_type": "stream",
          "name": "stdout",
          "text": [
            "{'a': 10, 'b': 20, 'c': 30}\n"
          ]
        }
      ]
    },
    {
      "cell_type": "code",
      "source": [
        "d=dict([(1,'사과'),(2,'바나나')])\n",
        "print(d)"
      ],
      "metadata": {
        "colab": {
          "base_uri": "https://localhost:8080/"
        },
        "id": "rP5TJm3o6t7y",
        "outputId": "da120f77-cf9f-467b-9bfe-e1ca8eb8ac6d"
      },
      "execution_count": null,
      "outputs": [
        {
          "output_type": "stream",
          "name": "stdout",
          "text": [
            "{1: '사과', 2: '바나나'}\n"
          ]
        }
      ]
    },
    {
      "cell_type": "code",
      "source": [
        "member ={\"이하나\":\"123!34\",\"서지원\":\"8@403\",\"박지호\":\"87954#\"}\n",
        "\n",
        "name=list(member.keys())\n",
        "n=0\n",
        "\n",
        "for n in range(3) :\n",
        "    password=member[name[n]]\n",
        "    if len(password)>=6 :\n",
        "        if '!' in password:\n",
        "            if '@' in password:\n",
        "                if '#' in password:\n",
        "                    print(\"가능합니다\")\n",
        "                else :\n",
        "                    print(\"불가능합니다\")\n",
        "            else :\n",
        "                print(\"불가능합니다\")\n",
        "        else :\n",
        "            print(\"불가능합니다\")\n",
        "    else :\n",
        "        print(\"불가능합니다\")\n",
        "\n"
      ],
      "metadata": {
        "id": "CgV0YDXO6_0M",
        "colab": {
          "base_uri": "https://localhost:8080/"
        },
        "outputId": "4f821242-238a-4e26-c9c1-6f27e5efdf71"
      },
      "execution_count": null,
      "outputs": [
        {
          "output_type": "stream",
          "name": "stdout",
          "text": [
            "불가능합니다\n",
            "불가능합니다\n",
            "불가능합니다\n"
          ]
        }
      ]
    },
    {
      "cell_type": "code",
      "source": [
        "member ={\"이하나\":\"123!34\",\"서지원\":\"8@403\",\"박지호\":\"87954#\"}\n",
        "\n",
        "name=list(member.keys())\n",
        "print(name)\n",
        "n=0\n",
        "password=member[name[n]]\n",
        "print(password)\n",
        "print(len(password))"
      ],
      "metadata": {
        "colab": {
          "base_uri": "https://localhost:8080/"
        },
        "id": "hHtzxAQZ_zP6",
        "outputId": "630f5a17-4bf7-4afc-835c-6a104fce2050"
      },
      "execution_count": null,
      "outputs": [
        {
          "output_type": "stream",
          "name": "stdout",
          "text": [
            "['이하나', '서지원', '박지호']\n",
            "123!34\n",
            "6\n"
          ]
        }
      ]
    },
    {
      "cell_type": "code",
      "source": [
        "import random as r\n",
        "\n",
        "eng_dict = { '사과'   : 'apple', '바나나'  : 'banana',  '복숭아' : 'peach',\n",
        "             '오렌지' : 'orange', '딸기'   : 'strawberry', '멜론'   : 'melon',\n",
        "             '학교'   : 'school', '책'     : 'book',  '봄' : 'spring',\n",
        "             '여름'   : 'summer', '가을'   : 'fall',  '겨울'   : 'winter'\n",
        "             }\n",
        "\n",
        "print(list(eng_dict.keys()))\n",
        "\n",
        "while eng_dict:\n",
        "    word = r.choice(list(eng_dict.keys()))\n",
        "\n",
        "    while True:\n",
        "        word_input=input('{}: '.format(word))\n",
        "\n",
        "        if word_input ==eng_dict[word] :\n",
        "            eng_dict.pop(word)\n",
        "            break\n",
        "\n",
        "        else:\n",
        "            print(\"다시 입력하세요!\")\n",
        "print('모든 단어의 테스트가 종료되었습니다')"
      ],
      "metadata": {
        "id": "03v0qp1VDUG5"
      },
      "execution_count": null,
      "outputs": []
    },
    {
      "cell_type": "code",
      "source": [
        "#3. 햄버거 주문하는 프로그램\n",
        "menu = ('새우버거', '치킨버거', '치즈버거')\n",
        "price = (5000, 4000, 3000)\n",
        "\n",
        "#메뉴함수\n",
        "def my_menu():\n",
        "    print()\n",
        "    print('[버거메뉴]')\n",
        "    for i in range(len(menu)):\n",
        "        print(i+1,'.',menu[i],'\\t가격:',price[i])\n",
        "    print()\n",
        "\n",
        "#주문함수\n",
        "def order(num):\n",
        "    burger=menu[num-1]\n",
        "    print(\"주문 버거: {}\".format(burger))\n",
        "\n",
        "#지불 함수\n",
        "def pay(num,qty):\n",
        "    total_price = price[num-1]*qty\n",
        "    return total_price\n",
        "\n",
        "#-----------------------------------------------------\n",
        "def main():\n",
        "    my_menu()\n",
        "\n",
        "    b_num = int(input(\"주문하실 버거 번호를 선택하세요: \"))\n",
        "    order(b_num)\n",
        "\n",
        "    b_qty = int(input(\"주문하실 버거 수량을 입력하세요: \"))\n",
        "\n",
        "    b_total = pay(b_num,b_qty)\n",
        "    print('수량: {}, 결제금액: {}'.format(b_qty,b_total))\n",
        "\n",
        "if __name__ == '__main__':\n",
        "    main()"
      ],
      "metadata": {
        "colab": {
          "base_uri": "https://localhost:8080/"
        },
        "id": "6PdLtIoBGfEm",
        "outputId": "520a0cd8-26a7-4443-e2b1-6e62864cade5"
      },
      "execution_count": null,
      "outputs": [
        {
          "output_type": "stream",
          "name": "stdout",
          "text": [
            "\n",
            "[버거메뉴]\n",
            "1 . 새우버거 \t가격: 5000\n",
            "2 . 치킨버거 \t가격: 4000\n",
            "3 . 치즈버거 \t가격: 3000\n",
            "\n",
            "주문하실 버거 번호를 선택하세요: 2\n",
            "주문 버거: 치킨버거\n",
            "주문하실 버거 수량을 입력하세요: 3\n",
            "수량: 3, 결제금액: 12000\n"
          ]
        }
      ]
    },
    {
      "cell_type": "code",
      "source": [
        "print(__name__)"
      ],
      "metadata": {
        "colab": {
          "base_uri": "https://localhost:8080/"
        },
        "id": "Ev0gVf1Lt5QI",
        "outputId": "9ec43cc7-0753-45d9-95a9-8f6306742649"
      },
      "execution_count": null,
      "outputs": [
        {
          "output_type": "stream",
          "name": "stdout",
          "text": [
            "__main__\n"
          ]
        }
      ]
    },
    {
      "cell_type": "code",
      "source": [
        "def test():\n",
        "    b=20 #지역변수\n",
        "    print(a,b)"
      ],
      "metadata": {
        "id": "zMaHm-L6c-jA"
      },
      "execution_count": null,
      "outputs": []
    },
    {
      "cell_type": "code",
      "source": [
        "a=100 #전역변수\n",
        "print(a)\n",
        "test()"
      ],
      "metadata": {
        "colab": {
          "base_uri": "https://localhost:8080/"
        },
        "id": "H1RWk1IXhbJV",
        "outputId": "b080b4c1-1222-4ed6-d385-0563dc52c68c"
      },
      "execution_count": null,
      "outputs": [
        {
          "output_type": "stream",
          "name": "stdout",
          "text": [
            "100\n",
            "100 20\n"
          ]
        }
      ]
    },
    {
      "cell_type": "code",
      "source": [
        "def test_1():\n",
        "    global b\n",
        "    b=20 #전역변수\n",
        "    print(a,b)"
      ],
      "metadata": {
        "id": "0Ji7jvMfhhMy"
      },
      "execution_count": null,
      "outputs": []
    },
    {
      "cell_type": "code",
      "source": [
        "#오픈API"
      ],
      "metadata": {
        "id": "4mrWLl1Yhilt"
      },
      "execution_count": null,
      "outputs": []
    },
    {
      "cell_type": "code",
      "source": [
        "#'\\__name__' : 모듈 이름이 저장되는 내장변수"
      ],
      "metadata": {
        "id": "kk42tLcmoONF"
      },
      "execution_count": null,
      "outputs": []
    },
    {
      "cell_type": "code",
      "source": [
        "#람다함수(익명함수) : 코드의 간결함과 메모리 절약\n",
        "(lambda x,y : x+y)(10,20)"
      ],
      "metadata": {
        "colab": {
          "base_uri": "https://localhost:8080/"
        },
        "id": "HjlPzBef4KnN",
        "outputId": "2d7915da-5342-4fa1-9c53-9c939b22bed7"
      },
      "execution_count": null,
      "outputs": [
        {
          "output_type": "execute_result",
          "data": {
            "text/plain": [
              "30"
            ]
          },
          "metadata": {},
          "execution_count": 1
        }
      ]
    },
    {
      "cell_type": "code",
      "source": [
        "(lambda x : True if x%3 == 0 else False)(10)"
      ],
      "metadata": {
        "colab": {
          "base_uri": "https://localhost:8080/"
        },
        "id": "p6xd1F9M4289",
        "outputId": "09405043-4b34-4666-a967-998d335c2b71"
      },
      "execution_count": null,
      "outputs": [
        {
          "output_type": "execute_result",
          "data": {
            "text/plain": [
              "False"
            ]
          },
          "metadata": {},
          "execution_count": 2
        }
      ]
    },
    {
      "cell_type": "code",
      "source": [
        "#map(함수, 리스트)\n",
        "\n",
        "x=[1,2,3,4,5]\n",
        "y=map(lambda a: a*a, x)\n",
        "list(y)"
      ],
      "metadata": {
        "colab": {
          "base_uri": "https://localhost:8080/"
        },
        "id": "W0tq-b_a5fiS",
        "outputId": "b2af5049-943d-4b85-db24-e79b58bf440d"
      },
      "execution_count": null,
      "outputs": [
        {
          "output_type": "execute_result",
          "data": {
            "text/plain": [
              "[1, 4, 9, 16, 25]"
            ]
          },
          "metadata": {},
          "execution_count": 4
        }
      ]
    },
    {
      "cell_type": "code",
      "source": [
        "# filter (함수, 리스트)\n",
        "x=[1,3,5,7,9]\n",
        "result = filter(lambda a:a >5, x)\n",
        "list(result)"
      ],
      "metadata": {
        "colab": {
          "base_uri": "https://localhost:8080/"
        },
        "id": "2CPh-1Xw6B8u",
        "outputId": "f4e23be7-5adb-4fe2-9f5f-abc1f3f7f66f"
      },
      "execution_count": null,
      "outputs": [
        {
          "output_type": "execute_result",
          "data": {
            "text/plain": [
              "[7, 9]"
            ]
          },
          "metadata": {},
          "execution_count": 5
        }
      ]
    },
    {
      "cell_type": "code",
      "source": [
        "#리스트 컴프리헨션\n",
        "a=[1,-5,4,2,-2,10]\n",
        "b=[2*x for x in a]\n",
        "\n",
        "b"
      ],
      "metadata": {
        "colab": {
          "base_uri": "https://localhost:8080/"
        },
        "id": "ZZoXk6WF7VbZ",
        "outputId": "82ab254d-8ea4-4d5b-d4c8-8da223aeef16"
      },
      "execution_count": null,
      "outputs": [
        {
          "output_type": "execute_result",
          "data": {
            "text/plain": [
              "[2, -10, 8, 4, -4, 20]"
            ]
          },
          "metadata": {},
          "execution_count": 6
        }
      ]
    },
    {
      "cell_type": "code",
      "source": [
        "names=['Elwood','Jake']\n",
        "a=[i.lower() for i in names]\n",
        "\n",
        "a"
      ],
      "metadata": {
        "colab": {
          "base_uri": "https://localhost:8080/"
        },
        "id": "2aSsqvBA7lou",
        "outputId": "651d3fa2-63b2-479d-d50c-b6c3eacf4993"
      },
      "execution_count": null,
      "outputs": [
        {
          "output_type": "execute_result",
          "data": {
            "text/plain": [
              "['elwood', 'jake']"
            ]
          },
          "metadata": {},
          "execution_count": 7
        }
      ]
    },
    {
      "cell_type": "code",
      "source": [
        "a=[1,-5,4,2,-2,10]\n",
        "b=[2*x for x in a if x>0]\n",
        "\n",
        "b"
      ],
      "metadata": {
        "colab": {
          "base_uri": "https://localhost:8080/"
        },
        "id": "9aXLp5Tb7_bC",
        "outputId": "653ee3f8-7d48-4c28-e878-11ea57f63b20"
      },
      "execution_count": null,
      "outputs": [
        {
          "output_type": "execute_result",
          "data": {
            "text/plain": [
              "[2, 8, 4, 20]"
            ]
          },
          "metadata": {},
          "execution_count": 9
        }
      ]
    },
    {
      "cell_type": "code",
      "source": [
        "#딕셔너리의 컴프리헨션\n",
        "\n",
        "d1=dict(a=1,b=2,c=3)\n",
        "\n",
        "d2 = {k:v for k,v in d1.items() if v%2}\n",
        "d2"
      ],
      "metadata": {
        "colab": {
          "base_uri": "https://localhost:8080/"
        },
        "id": "5jwT3gC08W3d",
        "outputId": "c19d4be0-ddfd-4912-98e1-5a25c30d637f"
      },
      "execution_count": null,
      "outputs": [
        {
          "output_type": "execute_result",
          "data": {
            "text/plain": [
              "{'a': 1, 'c': 3}"
            ]
          },
          "metadata": {},
          "execution_count": 11
        }
      ]
    },
    {
      "cell_type": "markdown",
      "source": [
        "## 문제1\n",
        "\n",
        "A 학교에서는 단체 티셔츠를 주문하기 위해 학생별로 원하는 티셔츠 사이즈를 조사했습니다. 선택할 수 있는 티셔츠 사이즈는 작은 순서대로 \"XS\", \"S\", \"M\", \"L\", \"XL\", \"XXL\" 총 6종류가 있습니다.\n",
        "\n",
        "학생별로 원하는 티셔츠 사이즈를 조사한 결과가 들어있는 리스트 shirt_size가 매개변수로 주어질 때, 사이즈별로 티셔츠가 몇 벌씩 필요한지 가장 작은 사이즈부터 순서대로 리스트에 담아 return 하도록 solution 함수를 완성해주세요.\n",
        "\n",
        "---\n",
        "##### 매개변수 설명\n",
        "학생별로 원하는 사이즈를 조사한 결과가 들어있는 리스트 shirt_size가 solution 함수의 매개변수로 주어집니다.\n",
        "* shirt_size 의 길이는 1 이상 100 이하입니다.\n",
        "* shirt_size 에는 치수를 나타내는 문자열 \"XS\", \"S\", \"M\", \"L\", \"XL\", \"XXL\" 이 들어있습니다.\n",
        "\n",
        "---\n",
        "##### return 값 설명\n",
        "티셔츠가 사이즈별로 몇 벌씩 필요한지 가장 작은 사이즈부터 순서대로 리스트에 담아 return 해주세요.\n",
        "* return 하는 리스트에는 [ \"XS\" 개수, \"S\" 개수, \"M\" 개수, \"L\" 개수, \"XL\" 개수, \"XXL\" 개수] 순서로 들어있어야 합니다.\n",
        "\n",
        "---\n",
        "##### 예시\n",
        "\n",
        "| shirt_size                       | return        |\n",
        "|----------------------------------|---------------|\n",
        "| [\"XS\", \"S\", \"L\", \"L\", \"XL\", \"S\"] | [1, 2, 0, 2, 1, 0] |\n",
        "\n",
        "##### 예시 설명\n",
        "* \"XS\"와 \"XL\"은 각각 한 명씩 신청했습니다.\n",
        "* \"S\"와 \"L\"은 각각 두 명씩 신청했습니다.\n",
        "* \"M\"과 \"XXL\"을 신청한 학생은 없습니다.\n",
        "\n",
        "따라서 순서대로 [1, 2, 0, 2, 1, 0]을 리스트에 담아 return 하면 됩니다."
      ],
      "metadata": {
        "id": "YotNWErl_ntX"
      }
    },
    {
      "cell_type": "code",
      "source": [
        "def size_count(shirt_size) :\n",
        "    size =[0 for _ in range(6)]\n",
        "    for s in shirt_size :\n",
        "        if s == \"XS\":\n",
        "            size[0] +=1\n",
        "        elif s == \"S\":\n",
        "            size[1] +=1\n",
        "        elif s == \"M\":\n",
        "            size[2] +=1\n",
        "        elif s == \"L\":\n",
        "            size[3] +=1\n",
        "        elif s == \"XL\":\n",
        "            size[4] +=1\n",
        "        elif s == \"XXL\":\n",
        "            size[5] +=1\n",
        "    return size\n",
        "\n"
      ],
      "metadata": {
        "id": "bTcJrN429Wku"
      },
      "execution_count": null,
      "outputs": []
    },
    {
      "cell_type": "code",
      "source": [
        "shirt_size=[\"XS\",\"S\",\"L\",\"L\",\"XL\",\"S\"]\n",
        "\n",
        "result =size_count(shirt_size)\n",
        "print(result)"
      ],
      "metadata": {
        "colab": {
          "base_uri": "https://localhost:8080/"
        },
        "id": "WfKw5a7UAxQO",
        "outputId": "0a163132-8794-4a70-c620-16a4bce339c1"
      },
      "execution_count": null,
      "outputs": [
        {
          "output_type": "stream",
          "name": "stdout",
          "text": [
            "[1, 2, 0, 2, 1, 0]\n"
          ]
        }
      ]
    },
    {
      "cell_type": "code",
      "source": [
        "#enumerate\n",
        "\n",
        "names = ['윤나은','김현주','정현지','이지선','박선주']\n",
        "\n",
        "for n in enumerate(names,5):\n",
        "    print(n)\n"
      ],
      "metadata": {
        "colab": {
          "base_uri": "https://localhost:8080/"
        },
        "id": "s3lS2Gz4ChF0",
        "outputId": "616add33-0611-41e4-fd52-519ede4aa7da"
      },
      "execution_count": null,
      "outputs": [
        {
          "output_type": "stream",
          "name": "stdout",
          "text": [
            "(5, '윤나은')\n",
            "(6, '김현주')\n",
            "(7, '정현지')\n",
            "(8, '이지선')\n",
            "(9, '박선주')\n"
          ]
        }
      ]
    },
    {
      "cell_type": "code",
      "source": [],
      "metadata": {
        "id": "tvn80tzPGSDN"
      },
      "execution_count": null,
      "outputs": []
    }
  ]
}