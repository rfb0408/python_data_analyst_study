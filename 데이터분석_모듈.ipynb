{
  "nbformat": 4,
  "nbformat_minor": 0,
  "metadata": {
    "colab": {
      "provenance": [],
      "authorship_tag": "ABX9TyPG3gGWffQ0J/NKwjw8zT7C",
      "include_colab_link": true
    },
    "kernelspec": {
      "name": "python3",
      "display_name": "Python 3"
    },
    "language_info": {
      "name": "python"
    }
  },
  "cells": [
    {
      "cell_type": "markdown",
      "metadata": {
        "id": "view-in-github",
        "colab_type": "text"
      },
      "source": [
        "<a href=\"https://colab.research.google.com/github/rfb0408/python_data_analyst_study/blob/main/%EB%8D%B0%EC%9D%B4%ED%84%B0%EB%B6%84%EC%84%9D_%EB%AA%A8%EB%93%88.ipynb\" target=\"_parent\"><img src=\"https://colab.research.google.com/assets/colab-badge.svg\" alt=\"Open In Colab\"/></a>"
      ]
    },
    {
      "cell_type": "markdown",
      "source": [
        "#모듈"
      ],
      "metadata": {
        "id": "b-nRo-VImuIV"
      }
    },
    {
      "cell_type": "markdown",
      "source": [
        "**파일에서 새로운 burger.py 만들어서 데이터분석_2일차에 있는 함수- 버거 예제 가져오기!**"
      ],
      "metadata": {
        "id": "e1vmhcjQj2VW"
      }
    },
    {
      "cell_type": "markdown",
      "source": [
        "\n",
        "기존의 버거 파일에서\n",
        "\n",
        "```\n",
        "my_menu()\n",
        "\n",
        "burger_num=int(input('주문하실 버거 번호를 선택하세요 : '))\n",
        "order(burger_num)\n",
        "\n",
        "burger_qty=int(input('\\n주문하실 버거 수량을 입력하세요 : '))\n",
        "burger_total_price = pay(burger_num, burger_qty)\n",
        "\n",
        "print('수량 : {}, 총액: {}'. format(burger_qty, burger_tot\n",
        "```\n",
        "를\n",
        "\n",
        "```\n",
        "def main():\n",
        "    my_menu()\n",
        "\n",
        "    b_num = int(input(\"주문하실 버거 번호를 선택하세요: \"))\n",
        "    order(b_num)\n",
        "\n",
        "    b_qty = int(input(\"주문하실 버거 수량을 입력하세요: \"))\n",
        "\n",
        "    b_total = pay(b_num,b_qty)\n",
        "    print('수량: {}, 결제금액: {}'.format(b_qty,b_total))\n",
        "\n",
        "if __name__ == '__main__':\n",
        "    main()\n",
        "```\n",
        "\n",
        "로 수정함."
      ],
      "metadata": {
        "id": "v3Szj0WWmVRV"
      }
    },
    {
      "cell_type": "code",
      "execution_count": null,
      "metadata": {
        "id": "fd4C8YDIjFGy"
      },
      "outputs": [],
      "source": [
        "import burger # 보통 함수는 불러와지고 끝나는데, 위의 수정을 거치지 않으면 바로 실행이 된다."
      ]
    },
    {
      "cell_type": "code",
      "source": [
        "print(burger.__name__)"
      ],
      "metadata": {
        "colab": {
          "base_uri": "https://localhost:8080/"
        },
        "id": "a9u_woshm642",
        "outputId": "ec2d4305-31d5-4767-daf8-37d1319ccf12"
      },
      "execution_count": null,
      "outputs": [
        {
          "output_type": "stream",
          "name": "stdout",
          "text": [
            "burger\n"
          ]
        }
      ]
    },
    {
      "cell_type": "code",
      "source": [
        "print(__name__)"
      ],
      "metadata": {
        "colab": {
          "base_uri": "https://localhost:8080/"
        },
        "id": "3BFO69rIm-Oj",
        "outputId": "1e34640c-4ad2-4b0f-cb7b-13693752ba08"
      },
      "execution_count": null,
      "outputs": [
        {
          "output_type": "stream",
          "name": "stdout",
          "text": [
            "__main__\n"
          ]
        }
      ]
    },
    {
      "cell_type": "code",
      "source": [
        "burger.my_menu()"
      ],
      "metadata": {
        "colab": {
          "base_uri": "https://localhost:8080/"
        },
        "id": "S5vkOhYVqvpc",
        "outputId": "d9063fea-e33c-442d-a7b8-6bf3a5da47dd"
      },
      "execution_count": null,
      "outputs": [
        {
          "output_type": "stream",
          "name": "stdout",
          "text": [
            "\n",
            "[버거메뉴]\n",
            "1 . 새우버거 \t가격 :  5000\n",
            "2 . 치킨버거 \t가격 :  4000\n",
            "3 . 치즈버거 \t가격 :  3000\n",
            "\n"
          ]
        }
      ]
    },
    {
      "cell_type": "code",
      "source": [
        "from module import burger # module 파일 안에서 burger.py를 가져왔음, 폴더 안에 있는 것을 가져오려면 이렇게!"
      ],
      "metadata": {
        "id": "vTOPHKivqysG"
      },
      "execution_count": null,
      "outputs": []
    }
  ]
}