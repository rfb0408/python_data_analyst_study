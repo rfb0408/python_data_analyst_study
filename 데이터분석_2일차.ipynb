{
  "nbformat": 4,
  "nbformat_minor": 0,
  "metadata": {
    "colab": {
      "provenance": [],
      "authorship_tag": "ABX9TyN6rHZiLT9+GKMmVerZ4BUa",
      "include_colab_link": true
    },
    "kernelspec": {
      "name": "python3",
      "display_name": "Python 3"
    },
    "language_info": {
      "name": "python"
    }
  },
  "cells": [
    {
      "cell_type": "markdown",
      "metadata": {
        "id": "view-in-github",
        "colab_type": "text"
      },
      "source": [
        "<a href=\"https://colab.research.google.com/github/rfb0408/python_data_analyst_study/blob/main/%EB%8D%B0%EC%9D%B4%ED%84%B0%EB%B6%84%EC%84%9D_2%EC%9D%BC%EC%B0%A8.ipynb\" target=\"_parent\"><img src=\"https://colab.research.google.com/assets/colab-badge.svg\" alt=\"Open In Colab\"/></a>"
      ]
    },
    {
      "cell_type": "markdown",
      "source": [
        "#복합데이터"
      ],
      "metadata": {
        "id": "bixQ70a6Ri0X"
      }
    },
    {
      "cell_type": "markdown",
      "source": [
        "##복합데이터_튜플"
      ],
      "metadata": {
        "id": "HAuXKFabI4pd"
      }
    },
    {
      "cell_type": "markdown",
      "source": [
        "###튜플의 패킹과 언패킹"
      ],
      "metadata": {
        "id": "ew30yBLiK4Ek"
      }
    },
    {
      "cell_type": "markdown",
      "source": [
        "- tuple packing - 튜플로 값을 묶는 행위\n",
        "\n",
        "\n",
        "- tuple unpacking - 튜플로 묶여있는 값들을 풀어내는 행위"
      ],
      "metadata": {
        "id": "VZj7mkQMMvl8"
      }
    },
    {
      "cell_type": "code",
      "source": [
        "# tuple packing\n",
        "tri_1=(13,7)\n",
        "\n",
        "# tuple unpacking\n",
        "at, bt =tri_1\n",
        "print(at,bt)\n",
        "\n",
        "# unpacking을 진행할 때, tuple에 저장된 값의 개수랑 변수의 개수가 다른 경우\n",
        "nums=(1,2,3,4,5)\n",
        "\n",
        "n1,n2,*others=nums # 둘 이상의 값을 list로 묶을 때 *을 사용한다.\n",
        "\n",
        "print(n1)\n",
        "print(n2)\n",
        "print(others) # tuple이 아닌 list로 묶인다."
      ],
      "metadata": {
        "colab": {
          "base_uri": "https://localhost:8080/"
        },
        "id": "KYY76TvnKMXY",
        "outputId": "08416116-86f1-4561-d748-09a7f963fe19"
      },
      "execution_count": null,
      "outputs": [
        {
          "output_type": "stream",
          "name": "stdout",
          "text": [
            "13 7\n",
            "1\n",
            "2\n",
            "[3, 4, 5]\n"
          ]
        }
      ]
    },
    {
      "cell_type": "code",
      "source": [
        "# for구문에서 unpacking\n",
        "\n",
        "numbers=[('A',1),('B',2),('C',3)]\n",
        "\n",
        "for x,y in numbers :\n",
        "    print(x,y,sep=',')"
      ],
      "metadata": {
        "colab": {
          "base_uri": "https://localhost:8080/"
        },
        "id": "P1EQQZdyOhsz",
        "outputId": "e724c972-df6f-4b20-b8e7-b33e7c5b0213"
      },
      "execution_count": null,
      "outputs": [
        {
          "output_type": "stream",
          "name": "stdout",
          "text": [
            "A,1\n",
            "B,2\n",
            "C,3\n"
          ]
        }
      ]
    },
    {
      "cell_type": "markdown",
      "source": [
        "##복합데이터_딕셔너리"
      ],
      "metadata": {
        "id": "uiWg_D4xRpwo"
      }
    },
    {
      "cell_type": "markdown",
      "source": [
        "###dictionary"
      ],
      "metadata": {
        "id": "uW8EfXsgRw9p"
      }
    },
    {
      "cell_type": "code",
      "source": [
        "a={1:'apple',2:\"orange\",3:\"banana\"}\n",
        "\n",
        "# key로 dictionary 참조\n",
        "print(a[1])\n",
        "\n",
        "# 항목 수 구하기\n",
        "len(a)\n",
        "\n",
        "# key 유무 확인\n",
        "print(4 in a)\n",
        "print(2in a)\n",
        "\n",
        "# dictionary의 value 변경 & 추가\n",
        "a[1]='peach'\n",
        "a[4]='tomato'\n",
        "print(a)"
      ],
      "metadata": {
        "colab": {
          "base_uri": "https://localhost:8080/"
        },
        "id": "rKAkFjV-R69I",
        "outputId": "3e098dba-366d-4edf-b9ee-e3566e998c97"
      },
      "execution_count": null,
      "outputs": [
        {
          "output_type": "stream",
          "name": "stdout",
          "text": [
            "apple\n",
            "False\n",
            "True\n",
            "{1: 'peach', 2: 'orange', 3: 'banana', 4: 'tomato'}\n"
          ]
        }
      ]
    },
    {
      "cell_type": "code",
      "source": [
        "a={1:'apple',2:\"orange\",3:\"banana\"}\n",
        "\n",
        "# key 구하기\n",
        "print(a.keys())\n",
        "\n",
        "# value 구하기\n",
        "print(a.values())\n",
        "\n",
        "# key & value 구하기\n",
        "print(a.items())\n",
        "\n",
        "# dictionary 삭제\n",
        "print(a.clear())"
      ],
      "metadata": {
        "colab": {
          "base_uri": "https://localhost:8080/"
        },
        "id": "FfdAxjxTSDG6",
        "outputId": "0f2948e9-5691-4d14-bdab-c1fc9ab335b2"
      },
      "execution_count": null,
      "outputs": [
        {
          "output_type": "stream",
          "name": "stdout",
          "text": [
            "dict_keys([1, 2, 3])\n",
            "dict_values(['apple', 'orange', 'banana'])\n",
            "dict_items([(1, 'apple'), (2, 'orange'), (3, 'banana')])\n",
            "None\n"
          ]
        }
      ]
    },
    {
      "cell_type": "code",
      "source": [
        "a={1:'apple',2:\"orange\",3:\"banana\"}\n",
        "\n",
        "print(a[1]) # a[1]이 존재하지 않을 경우 error 발생\n",
        "print(a.get(1)) # a.get(1)이 존재하지 않을 경우 none값 return"
      ],
      "metadata": {
        "colab": {
          "base_uri": "https://localhost:8080/"
        },
        "id": "XFsYt_qjS9Pn",
        "outputId": "6a81ac32-b1c3-45fc-c41b-07d2dd4ff5e6"
      },
      "execution_count": null,
      "outputs": [
        {
          "output_type": "stream",
          "name": "stdout",
          "text": [
            "apple\n",
            "apple\n"
          ]
        }
      ]
    },
    {
      "cell_type": "code",
      "source": [
        "# 자료형 묶어주기\n",
        "key = ['a','b','c']\n",
        "value = [10,20,30]\n",
        "dct=dict(zip(key,value))\n",
        "\n",
        "print(dct)\n",
        "\n",
        "# tuple로 dictionary 만들기\n",
        "d=dict([(1,'사과'),(2,'바나나')])\n",
        "\n",
        "print(d)"
      ],
      "metadata": {
        "colab": {
          "base_uri": "https://localhost:8080/"
        },
        "id": "f_LypcAtTCqP",
        "outputId": "a17a2765-8318-4ef3-e153-112e6c8228c8"
      },
      "execution_count": null,
      "outputs": [
        {
          "output_type": "stream",
          "name": "stdout",
          "text": [
            "{'a': 10, 'b': 20, 'c': 30}\n",
            "{1: '사과', 2: '바나나'}\n"
          ]
        }
      ]
    },
    {
      "cell_type": "markdown",
      "source": [
        "#함수"
      ],
      "metadata": {
        "id": "7CpgDnHSV--9"
      }
    },
    {
      "cell_type": "markdown",
      "source": [
        "- 햄버거 주문하는 프로그램\n",
        "+ 함수는 예제로 이해하자!"
      ],
      "metadata": {
        "id": "_XnEMD4pdm1m"
      }
    },
    {
      "cell_type": "code",
      "source": [
        "menu = ('새우버거', '치킨버거', '치즈버거')\n",
        "price = (5000, 4000, 3000)\n",
        "\n",
        "# 메뉴함수\n",
        "def my_menu():\n",
        "    print()\n",
        "    print('[버거메뉴]')\n",
        "    for i in range(len(menu)):\n",
        "        print(i+1,'.',menu[i],'\\t가격:',price[i])\n",
        "    print()\n",
        "\n",
        "# 주문함수\n",
        "def order(num):\n",
        "    burger=menu[num-1]\n",
        "    print(\"주문 버거: {}\".format(burger))\n",
        "\n",
        "# 지불 함수\n",
        "def pay(num,qty):\n",
        "    total_price = price[num-1]*qty\n",
        "    return total_price\n",
        "\n",
        "#-----------------------------------------------------\n",
        "my_menu()\n",
        "\n",
        "b_num = int(input(\"주문하실 버거 번호를 선택하세요: \"))\n",
        "order(b_num)\n",
        "\n",
        "b_qty = int(input(\"주문하실 버거 수량을 입력하세요: \"))\n",
        "\n",
        "b_total = pay(b_num,b_qty)\n",
        "print('수량: {}, 결제금액: {}'.format(b_qty,b_total))"
      ],
      "metadata": {
        "id": "JhUtn2vRWENU"
      },
      "execution_count": null,
      "outputs": []
    },
    {
      "cell_type": "markdown",
      "source": [
        "## 지역변수,전역변수"
      ],
      "metadata": {
        "id": "46yX2NkOeSUG"
      }
    },
    {
      "cell_type": "code",
      "source": [
        "def test():\n",
        "\n",
        "    # global b 라고 b를 선언하면, b는 전역변수가 된다.\n",
        "    b=20 # 지역변수\n",
        "    print(a,b)\n",
        "\n",
        "a=100 # 전역변수\n",
        "\n",
        "print(a)\n",
        "test()"
      ],
      "metadata": {
        "colab": {
          "base_uri": "https://localhost:8080/"
        },
        "id": "fgVhi-pFegbQ",
        "outputId": "7466d0d5-3b37-4d1a-c948-6bfa0415a1fe"
      },
      "execution_count": null,
      "outputs": [
        {
          "output_type": "stream",
          "name": "stdout",
          "text": [
            "100\n",
            "100 20\n"
          ]
        }
      ]
    },
    {
      "cell_type": "markdown",
      "source": [
        "## Positional Arguments와 Keyword Arguments\n",
        "    - Positional Arguments : 함수에 정의된 순서대로 인자를 보냄\n",
        "    - Keyword Arguments : 인수를 전달할 때 매개변수명을 명시\n",
        "\n",
        "\n"
      ],
      "metadata": {
        "id": "a94riA0gf543"
      }
    },
    {
      "cell_type": "code",
      "source": [
        "def max_num(num1,num2):\n",
        "    if num1 < num2:\n",
        "        max_n =num2\n",
        "    else :\n",
        "        max_n = num1\n",
        "\n",
        "    return max_n\n",
        "\n",
        "max_num(2,3)\n",
        "\n",
        "# 같은 결과 출력\n",
        "max_num(num1=2,num2=3)\n",
        "max_num(num2=3,num1=2)\n",
        "\n",
        "# 혼용 가능\n",
        "max_num(2,num2=3)\n",
        "\n",
        "#에러\n",
        "max_num(num2=3,2)"
      ],
      "metadata": {
        "id": "mXVA3-xogCbX"
      },
      "execution_count": null,
      "outputs": []
    },
    {
      "cell_type": "markdown",
      "source": [
        "#모듈"
      ],
      "metadata": {
        "id": "uvLa8syKiLK_"
      }
    },
    {
      "cell_type": "markdown",
      "source": [
        "- 모듈이란?\n",
        " - 자주 사용하는 변수, 함수, 클래스 또는 실행 코드들을 모아서 간단한 기능을 담아 놓은 스크립트 파일\n",
        "  - '모듈이름. py'로 모듈을 만들고, 'import 모듈이름'으로 사용한다!"
      ],
      "metadata": {
        "id": "WyNxU-uCpFm8"
      }
    },
    {
      "cell_type": "code",
      "source": [
        "print(__name__) #__name__ : 모듈 이름이 저장되는 내장 변수"
      ],
      "metadata": {
        "colab": {
          "base_uri": "https://localhost:8080/"
        },
        "id": "nAEgnoKCn1ST",
        "outputId": "e4e5f904-7165-4dc7-e6a4-c3e94ce4f9ee"
      },
      "execution_count": 1,
      "outputs": [
        {
          "output_type": "stream",
          "name": "stdout",
          "text": [
            "__main__\n"
          ]
        }
      ]
    },
    {
      "cell_type": "markdown",
      "source": [
        "- 모듈 알아보기!\n",
        " - [데이터분석_모듈](https://colab.research.google.com/drive/1V3s69GwL5JoZ25E2NnJwWx2jXU0JgGQv#scrollTo=fd4C8YDIjFGy)\n"
      ],
      "metadata": {
        "id": "vt5By0ezlw_e"
      }
    },
    {
      "cell_type": "markdown",
      "source": [
        "# 예외처리"
      ],
      "metadata": {
        "id": "pADDP8fHuLnc"
      }
    },
    {
      "cell_type": "markdown",
      "source": [
        "- try & except"
      ],
      "metadata": {
        "id": "zB72i77vu9GL"
      }
    },
    {
      "cell_type": "code",
      "source": [
        "try:\n",
        "    num_input = int(input(\"나이를 입력하세요: \"))\n",
        "    print(\"입력하신 나이는 다음과 같습니다,\",num_input) #예외가 발생할 가능성이 있는 코드\n",
        "except:\n",
        "    print(\"입력이 잘못되었습니다.\") #예외가 발생했을 때 할 행동\n",
        "\n",
        "#else 예외가 발생하지 않았을 떄 실행할 코드\n",
        "#finally: 무조건 실행할 코드"
      ],
      "metadata": {
        "id": "xCew99MNuNr3"
      },
      "execution_count": null,
      "outputs": []
    },
    {
      "cell_type": "markdown",
      "source": [
        "# 람다, 리스트 컴프리헨션"
      ],
      "metadata": {
        "id": "qAZd-HKEvi-b"
      }
    },
    {
      "cell_type": "markdown",
      "source": [
        "## 람다함수"
      ],
      "metadata": {
        "id": "D_1ni3tPvpl7"
      }
    },
    {
      "cell_type": "markdown",
      "source": [
        "- 람다함수 : 즉시 사용하고 버리는 함수\n",
        " - 람다함수의 장점 : 코드의 간결함과 메모리 절약\n",
        "- Map : 사용자가 정의한 임의의 함수에 각 값들을 하나씩 적용\n",
        "- Filter : 사용자가 정의한 임의의 함수에서 값을 걸러내는 기능을 제공"
      ],
      "metadata": {
        "id": "lOzPpjiTwQLd"
      }
    },
    {
      "cell_type": "code",
      "source": [
        "(lambda x,y : x+y)(10,20)"
      ],
      "metadata": {
        "colab": {
          "base_uri": "https://localhost:8080/"
        },
        "id": "peBm4vFCvie8",
        "outputId": "a74f63c3-0960-4a2f-bd7b-f09a993fce90"
      },
      "execution_count": 7,
      "outputs": [
        {
          "output_type": "execute_result",
          "data": {
            "text/plain": [
              "30"
            ]
          },
          "metadata": {},
          "execution_count": 7
        }
      ]
    },
    {
      "cell_type": "code",
      "source": [
        "(lambda x : True if x%3 == 0 else False)(10)"
      ],
      "metadata": {
        "colab": {
          "base_uri": "https://localhost:8080/"
        },
        "id": "Hdc9izZLwIkT",
        "outputId": "2900f713-101b-4227-d139-898c9ff90e40"
      },
      "execution_count": 8,
      "outputs": [
        {
          "output_type": "execute_result",
          "data": {
            "text/plain": [
              "False"
            ]
          },
          "metadata": {},
          "execution_count": 8
        }
      ]
    },
    {
      "cell_type": "code",
      "source": [
        "#map (함수, 리스트)\n",
        "\n",
        "x=[1,2,3,4,5]\n",
        "y=map(lambda a: a*a, x)\n",
        "list(y)"
      ],
      "metadata": {
        "colab": {
          "base_uri": "https://localhost:8080/"
        },
        "id": "VFOxGoIRv3I3",
        "outputId": "3e385259-db0c-436d-e291-e305afa0400a"
      },
      "execution_count": 5,
      "outputs": [
        {
          "output_type": "execute_result",
          "data": {
            "text/plain": [
              "[1, 4, 9, 16, 25]"
            ]
          },
          "metadata": {},
          "execution_count": 5
        }
      ]
    },
    {
      "cell_type": "code",
      "source": [
        "# filter (함수, 리스트)\n",
        "x=[1,3,5,7,9]\n",
        "result = filter(lambda a:a >5, x)\n",
        "list(result)"
      ],
      "metadata": {
        "colab": {
          "base_uri": "https://localhost:8080/"
        },
        "id": "bxqje0sQv8lx",
        "outputId": "0bfcc88d-59d9-47d9-e914-d14fcd38ecf2"
      },
      "execution_count": 6,
      "outputs": [
        {
          "output_type": "execute_result",
          "data": {
            "text/plain": [
              "[7, 9]"
            ]
          },
          "metadata": {},
          "execution_count": 6
        }
      ]
    },
    {
      "cell_type": "markdown",
      "source": [
        "## 리스트 컴프리헨션"
      ],
      "metadata": {
        "id": "-JWViBu1w2qd"
      }
    },
    {
      "cell_type": "markdown",
      "source": [
        "- 리스트 컴프리헨션은 시퀸스의 각 원소에 연산을 적용함으로써 새로운 리스트를 생성"
      ],
      "metadata": {
        "id": "hc8wc3HQxL38"
      }
    },
    {
      "cell_type": "code",
      "source": [
        "# 리스트 컴프리헨션\n",
        "a=[1,-2,3,2,-13,7]\n",
        "b=[2*x for x in a]\n",
        "\n",
        "b"
      ],
      "metadata": {
        "colab": {
          "base_uri": "https://localhost:8080/"
        },
        "id": "nBY-AJmOv9wy",
        "outputId": "e4f54a7e-b4b4-4a34-fa10-587da085518a"
      },
      "execution_count": 13,
      "outputs": [
        {
          "output_type": "execute_result",
          "data": {
            "text/plain": [
              "[2, -4, 6, 4, -26, 14]"
            ]
          },
          "metadata": {},
          "execution_count": 13
        }
      ]
    },
    {
      "cell_type": "code",
      "source": [
        "names=['JeRry','Tom']\n",
        "a=[i.lower() for i in names]\n",
        "\n",
        "a"
      ],
      "metadata": {
        "colab": {
          "base_uri": "https://localhost:8080/"
        },
        "id": "AXAhGe1cw_xM",
        "outputId": "0d7103f2-4d3e-4b21-d37c-5f47b60a6bf0"
      },
      "execution_count": 14,
      "outputs": [
        {
          "output_type": "execute_result",
          "data": {
            "text/plain": [
              "['jerry', 'tom']"
            ]
          },
          "metadata": {},
          "execution_count": 14
        }
      ]
    },
    {
      "cell_type": "code",
      "source": [
        "a=[1,-2,3,2,-13,7]\n",
        "b=[2*x for x in a if x>0]\n",
        "\n",
        "b"
      ],
      "metadata": {
        "colab": {
          "base_uri": "https://localhost:8080/"
        },
        "id": "EPJtCVVkw_sa",
        "outputId": "7b722ba2-4c70-42ef-a385-9de7b5ef41c3"
      },
      "execution_count": 16,
      "outputs": [
        {
          "output_type": "execute_result",
          "data": {
            "text/plain": [
              "[2, 6, 4, 14]"
            ]
          },
          "metadata": {},
          "execution_count": 16
        }
      ]
    },
    {
      "cell_type": "code",
      "source": [
        "# 딕셔너리의 컴프리헨션\n",
        "\n",
        "d1=dict(a=1,b=2,c=3)\n",
        "\n",
        "d2 = {k:v for k,v in d1.items() if v%2}\n",
        "d2"
      ],
      "metadata": {
        "colab": {
          "base_uri": "https://localhost:8080/"
        },
        "id": "EPKfl5Qow_g0",
        "outputId": "bcf966cd-90ed-463f-90d3-753caf7a02d7"
      },
      "execution_count": 15,
      "outputs": [
        {
          "output_type": "execute_result",
          "data": {
            "text/plain": [
              "{'a': 1, 'c': 3}"
            ]
          },
          "metadata": {},
          "execution_count": 15
        }
      ]
    },
    {
      "cell_type": "markdown",
      "source": [
        "## enumerate"
      ],
      "metadata": {
        "id": "yY5gCmn90E9y"
      }
    },
    {
      "cell_type": "markdown",
      "source": [
        "- enumerate : 여러가지 자료형의 입력을 받으면 index값을 포함해서 반환하는 명령어"
      ],
      "metadata": {
        "id": "qNCYFn-yz0qd"
      }
    },
    {
      "cell_type": "code",
      "source": [
        "names = ['윤나은','김현주','정현지','이지선','박선주']\n",
        "\n",
        "for n in enumerate(names,5):\n",
        "    print(n)"
      ],
      "metadata": {
        "colab": {
          "base_uri": "https://localhost:8080/"
        },
        "id": "q4HJDPrizHzU",
        "outputId": "f592b3c1-4158-42f1-c44e-69a8035c20e3"
      },
      "execution_count": 17,
      "outputs": [
        {
          "output_type": "stream",
          "name": "stdout",
          "text": [
            "(5, '윤나은')\n",
            "(6, '김현주')\n",
            "(7, '정현지')\n",
            "(8, '이지선')\n",
            "(9, '박선주')\n"
          ]
        }
      ]
    }
  ]
}